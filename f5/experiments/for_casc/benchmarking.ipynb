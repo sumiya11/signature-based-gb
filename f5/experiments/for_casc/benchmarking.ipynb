{
 "cells": [
  {
   "cell_type": "markdown",
   "id": "c90d6de2",
   "metadata": {},
   "source": [
    "### Plots for Casc \n",
    "\n",
    "21/08/2022\n"
   ]
  },
  {
   "cell_type": "markdown",
   "id": "983a409d",
   "metadata": {},
   "source": [
    "#### Imports"
   ]
  },
  {
   "cell_type": "code",
   "execution_count": 1,
   "id": "21324f20",
   "metadata": {
    "vscode": {
     "languageId": "python"
    }
   },
   "outputs": [],
   "source": [
    "import matplotlib.pyplot as plt\n",
    "import numpy as np\n",
    "import pandas as pd"
   ]
  },
  {
   "cell_type": "code",
   "execution_count": 4,
   "id": "686de2f4",
   "metadata": {
    "vscode": {
     "languageId": "python"
    }
   },
   "outputs": [],
   "source": [
    "import os\n",
    "import sys"
   ]
  },
  {
   "cell_type": "code",
   "execution_count": 5,
   "id": "439f91eb",
   "metadata": {
    "vscode": {
     "languageId": "python"
    }
   },
   "outputs": [],
   "source": [
    "import pandas as pd\n",
    "sys.path.append('/home/ademin/reduce3/reduce-algebra-code/generic/rbench')"
   ]
  },
  {
   "cell_type": "code",
   "execution_count": 6,
   "id": "aa004c67",
   "metadata": {
    "vscode": {
     "languageId": "python"
    }
   },
   "outputs": [],
   "source": [
    "import rbench as rb"
   ]
  },
  {
   "cell_type": "markdown",
   "id": "cd67e53b",
   "metadata": {},
   "source": [
    "### Loading data"
   ]
  },
  {
   "cell_type": "code",
   "execution_count": 151,
   "id": "d5f53250",
   "metadata": {
    "vscode": {
     "languageId": "python"
    }
   },
   "outputs": [],
   "source": [
    "f5 = rb.read_filetree('./f5-full', 'f5').select('boot').deselect(['heapsize', 'valid'])\n",
    "groebner = rb.read_filetree('./groebner-full', 'groebner').select('boot').deselect(['heapsize', 'valid'])"
   ]
  },
  {
   "cell_type": "code",
   "execution_count": 152,
   "id": "4922b835",
   "metadata": {
    "vscode": {
     "languageId": "python"
    }
   },
   "outputs": [],
   "source": [
    "combo = groebner.join(f5, how='inner')"
   ]
  },
  {
   "cell_type": "code",
   "execution_count": 156,
   "id": "76827088",
   "metadata": {
    "vscode": {
     "languageId": "python"
    }
   },
   "outputs": [
    {
     "data": {
      "text/html": [
       "<div>\n",
       "<style scoped>\n",
       "    .dataframe tbody tr th:only-of-type {\n",
       "        vertical-align: middle;\n",
       "    }\n",
       "\n",
       "    .dataframe tbody tr th {\n",
       "        vertical-align: top;\n",
       "    }\n",
       "\n",
       "    .dataframe thead tr th {\n",
       "        text-align: left;\n",
       "    }\n",
       "</style>\n",
       "<table border=\"1\" class=\"dataframe\">\n",
       "  <thead>\n",
       "    <tr>\n",
       "      <th></th>\n",
       "      <th>f5</th>\n",
       "      <th>groebner</th>\n",
       "    </tr>\n",
       "    <tr>\n",
       "      <th></th>\n",
       "      <th>cpu_boot</th>\n",
       "      <th>cpu_boot</th>\n",
       "    </tr>\n",
       "  </thead>\n",
       "  <tbody>\n",
       "    <tr>\n",
       "      <th>biomodels/BIOMD0000000002</th>\n",
       "      <td>0.17</td>\n",
       "      <td>1.24</td>\n",
       "    </tr>\n",
       "    <tr>\n",
       "      <th>biomodels/BIOMD0000000028</th>\n",
       "      <td>0.09</td>\n",
       "      <td>0.10</td>\n",
       "    </tr>\n",
       "    <tr>\n",
       "      <th>biomodels/BIOMD0000000030</th>\n",
       "      <td>0.12</td>\n",
       "      <td>0.14</td>\n",
       "    </tr>\n",
       "    <tr>\n",
       "      <th>biomodels/BIOMD0000000038</th>\n",
       "      <td>4.45</td>\n",
       "      <td>0.45</td>\n",
       "    </tr>\n",
       "    <tr>\n",
       "      <th>biomodels/BIOMD0000000046</th>\n",
       "      <td>0.27</td>\n",
       "      <td>1.13</td>\n",
       "    </tr>\n",
       "    <tr>\n",
       "      <th>biomodels/BIOMD0000000085</th>\n",
       "      <td>NaN</td>\n",
       "      <td>NaN</td>\n",
       "    </tr>\n",
       "    <tr>\n",
       "      <th>biomodels/BIOMD0000000086</th>\n",
       "      <td>NaN</td>\n",
       "      <td>NaN</td>\n",
       "    </tr>\n",
       "    <tr>\n",
       "      <th>biomodels/BIOMD0000000102</th>\n",
       "      <td>NaN</td>\n",
       "      <td>5.66</td>\n",
       "    </tr>\n",
       "    <tr>\n",
       "      <th>biomodels/BIOMD0000000103</th>\n",
       "      <td>NaN</td>\n",
       "      <td>NaN</td>\n",
       "    </tr>\n",
       "    <tr>\n",
       "      <th>biomodels/BIOMD0000000108</th>\n",
       "      <td>4.61</td>\n",
       "      <td>31.40</td>\n",
       "    </tr>\n",
       "    <tr>\n",
       "      <th>biomodels/BIOMD0000000123</th>\n",
       "      <td>210.26</td>\n",
       "      <td>NaN</td>\n",
       "    </tr>\n",
       "    <tr>\n",
       "      <th>biomodels/BIOMD0000000166</th>\n",
       "      <td>0.00</td>\n",
       "      <td>0.12</td>\n",
       "    </tr>\n",
       "    <tr>\n",
       "      <th>biomodels/BIOMD0000000291</th>\n",
       "      <td>0.05</td>\n",
       "      <td>1.81</td>\n",
       "    </tr>\n",
       "    <tr>\n",
       "      <th>biomodels/BIOMD0000000315</th>\n",
       "      <td>NaN</td>\n",
       "      <td>NaN</td>\n",
       "    </tr>\n",
       "    <tr>\n",
       "      <th>biomodels/BIOMD0000000447</th>\n",
       "      <td>41.00</td>\n",
       "      <td>1.43</td>\n",
       "    </tr>\n",
       "    <tr>\n",
       "      <th>biomodels/BIOMD0000000500</th>\n",
       "      <td>0.13</td>\n",
       "      <td>0.39</td>\n",
       "    </tr>\n",
       "    <tr>\n",
       "      <th>biomodels/BIOMD0000000637</th>\n",
       "      <td>3.06</td>\n",
       "      <td>14.15</td>\n",
       "    </tr>\n",
       "    <tr>\n",
       "      <th>biomodels/BIOMD0000000646</th>\n",
       "      <td>NaN</td>\n",
       "      <td>NaN</td>\n",
       "    </tr>\n",
       "    <tr>\n",
       "      <th>biomodels/BIOMD0000000759</th>\n",
       "      <td>43.76</td>\n",
       "      <td>6.37</td>\n",
       "    </tr>\n",
       "    <tr>\n",
       "      <th>biomodels/BIOMD0000000769</th>\n",
       "      <td>0.47</td>\n",
       "      <td>0.75</td>\n",
       "    </tr>\n",
       "    <tr>\n",
       "      <th>doi/10.1016/S0747-7171(86)80014-1/InvGrad/Hairer2</th>\n",
       "      <td>NaN</td>\n",
       "      <td>118.61</td>\n",
       "    </tr>\n",
       "    <tr>\n",
       "      <th>doi/10.1016/S0747-7171(86)80014-1/InvGrad/Hairer3</th>\n",
       "      <td>NaN</td>\n",
       "      <td>NaN</td>\n",
       "    </tr>\n",
       "    <tr>\n",
       "      <th>doi/10.1016/S0747-7171(86)80014-1/InvLex/Hairer2</th>\n",
       "      <td>NaN</td>\n",
       "      <td>NaN</td>\n",
       "    </tr>\n",
       "    <tr>\n",
       "      <th>doi/10.1016/S0747-7171(86)80014-1/InvLex/Hairer3</th>\n",
       "      <td>NaN</td>\n",
       "      <td>NaN</td>\n",
       "    </tr>\n",
       "    <tr>\n",
       "      <th>doi/10.1145/120694.120701/DegRevLex/Gerdt1</th>\n",
       "      <td>1.48</td>\n",
       "      <td>0.25</td>\n",
       "    </tr>\n",
       "    <tr>\n",
       "      <th>doi/10.1145/120694.120701/DegRevLex/Gerdt3</th>\n",
       "      <td>0.26</td>\n",
       "      <td>0.02</td>\n",
       "    </tr>\n",
       "    <tr>\n",
       "      <th>doi/10.1145/120694.120701/DegRevLex/Integ2</th>\n",
       "      <td>NaN</td>\n",
       "      <td>NaN</td>\n",
       "    </tr>\n",
       "    <tr>\n",
       "      <th>doi/10.1145/120694.120701/Lex/Arnborg</th>\n",
       "      <td>NaN</td>\n",
       "      <td>NaN</td>\n",
       "    </tr>\n",
       "    <tr>\n",
       "      <th>doi/10.1145/120694.120701/Lex/CycRoot</th>\n",
       "      <td>2.53</td>\n",
       "      <td>0.19</td>\n",
       "    </tr>\n",
       "    <tr>\n",
       "      <th>doi/10.1145/120694.120701/Lex/Gerdt1</th>\n",
       "      <td>0.28</td>\n",
       "      <td>0.05</td>\n",
       "    </tr>\n",
       "    <tr>\n",
       "      <th>doi/10.1145/120694.120701/Lex/Gerdt3</th>\n",
       "      <td>0.88</td>\n",
       "      <td>0.04</td>\n",
       "    </tr>\n",
       "    <tr>\n",
       "      <th>doi/10.1145/120694.120701/Lex/Integ1</th>\n",
       "      <td>0.91</td>\n",
       "      <td>0.02</td>\n",
       "    </tr>\n",
       "    <tr>\n",
       "      <th>doi/10.1145/120694.120701/Lex/Integ2</th>\n",
       "      <td>NaN</td>\n",
       "      <td>2.93</td>\n",
       "    </tr>\n",
       "    <tr>\n",
       "      <th>doi/10.1145/120694.120701/Lex/Katsura</th>\n",
       "      <td>NaN</td>\n",
       "      <td>NaN</td>\n",
       "    </tr>\n",
       "    <tr>\n",
       "      <th>doi/10.1145/120694.120701/Lex/ParCurv</th>\n",
       "      <td>NaN</td>\n",
       "      <td>0.18</td>\n",
       "    </tr>\n",
       "    <tr>\n",
       "      <th>systemsolving/cassou</th>\n",
       "      <td>19.04</td>\n",
       "      <td>0.31</td>\n",
       "    </tr>\n",
       "    <tr>\n",
       "      <th>systemsolving/eco7</th>\n",
       "      <td>0.78</td>\n",
       "      <td>0.59</td>\n",
       "    </tr>\n",
       "    <tr>\n",
       "      <th>systemsolving/hairer2</th>\n",
       "      <td>NaN</td>\n",
       "      <td>NaN</td>\n",
       "    </tr>\n",
       "    <tr>\n",
       "      <th>systemsolving/henrion5</th>\n",
       "      <td>31.93</td>\n",
       "      <td>14.25</td>\n",
       "    </tr>\n",
       "    <tr>\n",
       "      <th>systemsolving/henrion6</th>\n",
       "      <td>432.82</td>\n",
       "      <td>157.81</td>\n",
       "    </tr>\n",
       "    <tr>\n",
       "      <th>systemsolving/katsura6</th>\n",
       "      <td>2.83</td>\n",
       "      <td>3.61</td>\n",
       "    </tr>\n",
       "    <tr>\n",
       "      <th>systemsolving/katsura7</th>\n",
       "      <td>233.95</td>\n",
       "      <td>36.62</td>\n",
       "    </tr>\n",
       "    <tr>\n",
       "      <th>systemsolving/kinema</th>\n",
       "      <td>32.23</td>\n",
       "      <td>2.00</td>\n",
       "    </tr>\n",
       "    <tr>\n",
       "      <th>systemsolving/nbody4</th>\n",
       "      <td>NaN</td>\n",
       "      <td>38.09</td>\n",
       "    </tr>\n",
       "    <tr>\n",
       "      <th>systemsolving/nbody4sym</th>\n",
       "      <td>NaN</td>\n",
       "      <td>NaN</td>\n",
       "    </tr>\n",
       "    <tr>\n",
       "      <th>systemsolving/nbody5</th>\n",
       "      <td>NaN</td>\n",
       "      <td>54.35</td>\n",
       "    </tr>\n",
       "    <tr>\n",
       "      <th>systemsolving/noon5</th>\n",
       "      <td>0.10</td>\n",
       "      <td>0.75</td>\n",
       "    </tr>\n",
       "    <tr>\n",
       "      <th>systemsolving/noon6</th>\n",
       "      <td>0.69</td>\n",
       "      <td>13.40</td>\n",
       "    </tr>\n",
       "    <tr>\n",
       "      <th>systemsolving/noon7</th>\n",
       "      <td>7.19</td>\n",
       "      <td>227.29</td>\n",
       "    </tr>\n",
       "    <tr>\n",
       "      <th>systemsolving/noon8</th>\n",
       "      <td>78.08</td>\n",
       "      <td>NaN</td>\n",
       "    </tr>\n",
       "    <tr>\n",
       "      <th>systemsolving/root10</th>\n",
       "      <td>0.44</td>\n",
       "      <td>19.36</td>\n",
       "    </tr>\n",
       "    <tr>\n",
       "      <th>systemsolving/root11</th>\n",
       "      <td>1.76</td>\n",
       "      <td>116.61</td>\n",
       "    </tr>\n",
       "    <tr>\n",
       "      <th>systemsolving/root12</th>\n",
       "      <td>0.14</td>\n",
       "      <td>NaN</td>\n",
       "    </tr>\n",
       "    <tr>\n",
       "      <th>systemsolving/root7</th>\n",
       "      <td>0.02</td>\n",
       "      <td>0.10</td>\n",
       "    </tr>\n",
       "    <tr>\n",
       "      <th>systemsolving/root8</th>\n",
       "      <td>0.04</td>\n",
       "      <td>0.54</td>\n",
       "    </tr>\n",
       "    <tr>\n",
       "      <th>systemsolving/root9</th>\n",
       "      <td>0.12</td>\n",
       "      <td>3.19</td>\n",
       "    </tr>\n",
       "  </tbody>\n",
       "</table>\n",
       "</div>"
      ],
      "text/plain": [
       "                                                        f5 groebner\n",
       "                                                  cpu_boot cpu_boot\n",
       "biomodels/BIOMD0000000002                             0.17     1.24\n",
       "biomodels/BIOMD0000000028                             0.09     0.10\n",
       "biomodels/BIOMD0000000030                             0.12     0.14\n",
       "biomodels/BIOMD0000000038                             4.45     0.45\n",
       "biomodels/BIOMD0000000046                             0.27     1.13\n",
       "biomodels/BIOMD0000000085                              NaN      NaN\n",
       "biomodels/BIOMD0000000086                              NaN      NaN\n",
       "biomodels/BIOMD0000000102                              NaN     5.66\n",
       "biomodels/BIOMD0000000103                              NaN      NaN\n",
       "biomodels/BIOMD0000000108                             4.61    31.40\n",
       "biomodels/BIOMD0000000123                           210.26      NaN\n",
       "biomodels/BIOMD0000000166                             0.00     0.12\n",
       "biomodels/BIOMD0000000291                             0.05     1.81\n",
       "biomodels/BIOMD0000000315                              NaN      NaN\n",
       "biomodels/BIOMD0000000447                            41.00     1.43\n",
       "biomodels/BIOMD0000000500                             0.13     0.39\n",
       "biomodels/BIOMD0000000637                             3.06    14.15\n",
       "biomodels/BIOMD0000000646                              NaN      NaN\n",
       "biomodels/BIOMD0000000759                            43.76     6.37\n",
       "biomodels/BIOMD0000000769                             0.47     0.75\n",
       "doi/10.1016/S0747-7171(86)80014-1/InvGrad/Hairer2      NaN   118.61\n",
       "doi/10.1016/S0747-7171(86)80014-1/InvGrad/Hairer3      NaN      NaN\n",
       "doi/10.1016/S0747-7171(86)80014-1/InvLex/Hairer2       NaN      NaN\n",
       "doi/10.1016/S0747-7171(86)80014-1/InvLex/Hairer3       NaN      NaN\n",
       "doi/10.1145/120694.120701/DegRevLex/Gerdt1            1.48     0.25\n",
       "doi/10.1145/120694.120701/DegRevLex/Gerdt3            0.26     0.02\n",
       "doi/10.1145/120694.120701/DegRevLex/Integ2             NaN      NaN\n",
       "doi/10.1145/120694.120701/Lex/Arnborg                  NaN      NaN\n",
       "doi/10.1145/120694.120701/Lex/CycRoot                 2.53     0.19\n",
       "doi/10.1145/120694.120701/Lex/Gerdt1                  0.28     0.05\n",
       "doi/10.1145/120694.120701/Lex/Gerdt3                  0.88     0.04\n",
       "doi/10.1145/120694.120701/Lex/Integ1                  0.91     0.02\n",
       "doi/10.1145/120694.120701/Lex/Integ2                   NaN     2.93\n",
       "doi/10.1145/120694.120701/Lex/Katsura                  NaN      NaN\n",
       "doi/10.1145/120694.120701/Lex/ParCurv                  NaN     0.18\n",
       "systemsolving/cassou                                 19.04     0.31\n",
       "systemsolving/eco7                                    0.78     0.59\n",
       "systemsolving/hairer2                                  NaN      NaN\n",
       "systemsolving/henrion5                               31.93    14.25\n",
       "systemsolving/henrion6                              432.82   157.81\n",
       "systemsolving/katsura6                                2.83     3.61\n",
       "systemsolving/katsura7                              233.95    36.62\n",
       "systemsolving/kinema                                 32.23     2.00\n",
       "systemsolving/nbody4                                   NaN    38.09\n",
       "systemsolving/nbody4sym                                NaN      NaN\n",
       "systemsolving/nbody5                                   NaN    54.35\n",
       "systemsolving/noon5                                   0.10     0.75\n",
       "systemsolving/noon6                                   0.69    13.40\n",
       "systemsolving/noon7                                   7.19   227.29\n",
       "systemsolving/noon8                                  78.08      NaN\n",
       "systemsolving/root10                                  0.44    19.36\n",
       "systemsolving/root11                                  1.76   116.61\n",
       "systemsolving/root12                                  0.14      NaN\n",
       "systemsolving/root7                                   0.02     0.10\n",
       "systemsolving/root8                                   0.04     0.54\n",
       "systemsolving/root9                                   0.12     3.19"
      ]
     },
     "execution_count": 156,
     "metadata": {},
     "output_type": "execute_result"
    }
   ],
   "source": [
    "combo.slow(0.1)[[('f5', 'cpu_boot'), ('groebner', 'cpu_boot')]]"
   ]
  },
  {
   "cell_type": "code",
   "execution_count": null,
   "id": "316d79c0",
   "metadata": {
    "vscode": {
     "languageId": "python"
    }
   },
   "outputs": [],
   "source": []
  },
  {
   "cell_type": "code",
   "execution_count": null,
   "id": "eae3ce99",
   "metadata": {
    "vscode": {
     "languageId": "python"
    }
   },
   "outputs": [],
   "source": []
  },
  {
   "cell_type": "code",
   "execution_count": 41,
   "id": "aa2c97dc",
   "metadata": {
    "vscode": {
     "languageId": "python"
    }
   },
   "outputs": [],
   "source": [
    "combo005 = combo.slow(0.05)"
   ]
  },
  {
   "cell_type": "markdown",
   "id": "bec35b0b",
   "metadata": {},
   "source": [
    "### Plots"
   ]
  },
  {
   "cell_type": "code",
   "execution_count": 54,
   "id": "0294f750",
   "metadata": {
    "vscode": {
     "languageId": "python"
    }
   },
   "outputs": [],
   "source": [
    "x = combo005[('groebner', 'cpu_boot')]\n",
    "y = combo005[('f5', 'cpu_boot')]"
   ]
  },
  {
   "cell_type": "code",
   "execution_count": 79,
   "id": "2e9f8251",
   "metadata": {
    "vscode": {
     "languageId": "python"
    }
   },
   "outputs": [
    {
     "name": "stderr",
     "output_type": "stream",
     "text": [
      "<ipython-input-79-05fc9baf44d5>:3: MatplotlibDeprecationWarning: Support for setting the 'text.latex.preamble' or 'pgf.preamble' rcParam to a list of strings is deprecated since 3.3 and will be removed two minor releases later; set it to a single string instead.\n",
      "  matplotlib.rcParams['text.latex.preamble']=[r\"\\usepackage{amsmath}\"]\n"
     ]
    }
   ],
   "source": [
    "import matplotlib\n",
    "matplotlib.rc('text', usetex=True)\n",
    "matplotlib.rcParams['text.latex.preamble']=[r\"\\usepackage{amsmath}\"]"
   ]
  },
  {
   "cell_type": "code",
   "execution_count": 104,
   "id": "2b45c775",
   "metadata": {
    "vscode": {
     "languageId": "python"
    }
   },
   "outputs": [],
   "source": [
    "matplotlib.rc('xtick', labelsize=10) \n",
    "matplotlib.rc('ytick', labelsize=10) "
   ]
  },
  {
   "cell_type": "code",
   "execution_count": 169,
   "id": "2d561e24",
   "metadata": {
    "vscode": {
     "languageId": "python"
    }
   },
   "outputs": [
    {
     "data": {
      "image/png": "[encoded data removed]",
      "text/plain": [
       "<Figure size 1280x1280 with 1 Axes>"
      ]
     },
     "metadata": {
      "needs_background": "light"
     },
     "output_type": "display_data"
    }
   ],
   "source": [
    "fig, ax = plt.subplots(figsize=(5, 5), dpi=256)\n",
    "\n",
    "scatter = ax.scatter(x, y, c='#396b0b', alpha=0.6)\n",
    "\n",
    "ax.set_title(r\"\\Large Runtime in seconds\")\n",
    "ax.set_xlabel(r'{\\Large \\textbf{groebner}}')\n",
    "ax.set_ylabel(r'\\Large \\textbf{f5}')\n",
    "\n",
    "ax.plot([0, 1000], [0, 1000], c='gray', linestyle='--', lw=2, alpha=0.7)\n",
    "\n",
    "ax.set_yscale('log')\n",
    "ax.set_xscale('log')\n",
    "ax.set_aspect('equal')\n",
    "plt.xlim(xmin=0.01,xmax=1000)\n",
    "# only show 100 - 1600 on y-axis.\n",
    "plt.ylim(ymin=0.01,ymax=1000)\n",
    "\n",
    "plt.xticks([0.1, 10,  1000])\n",
    "plt.yticks([0.1, 10,  1000])\n",
    "\n",
    "plt.xticks(fontsize=14, rotation=0)\n",
    "plt.yticks(fontsize=14, rotation=0)\n",
    "\n",
    "plt.grid(True, alpha=0.3, c='gray')\n",
    "\n",
    "# legend1 = ax.legend(*scatter.legend_elements(),\n",
    "#                    loc=\"upper right\")\n",
    "# ax.add_artist(legend1)\n",
    "\n",
    "plt.show()"
   ]
  },
  {
   "cell_type": "code",
   "execution_count": 138,
   "id": "bca8aff2",
   "metadata": {
    "vscode": {
     "languageId": "python"
    }
   },
   "outputs": [],
   "source": [
    "fig.savefig(\"uwu.png\")"
   ]
  },
  {
   "cell_type": "code",
   "execution_count": 43,
   "id": "5f62fd83",
   "metadata": {
    "vscode": {
     "languageId": "python"
    }
   },
   "outputs": [
    {
     "data": {
      "image/png": "[encoded data removed]",
      "text/plain": [
       "<Figure size 360x360 with 1 Axes>"
      ]
     },
     "metadata": {
      "needs_background": "light"
     },
     "output_type": "display_data"
    }
   ],
   "source": [
    "x = combo005.plot.scatter(\n",
    "    x=('groebner', 'cpu_boot'), \n",
    "    y=('f5', 'cpu_boot'), \n",
    "    color='g', \n",
    "    alpha=0.7\n",
    ")"
   ]
  },
  {
   "cell_type": "code",
   "execution_count": 13,
   "id": "c12bfe0f",
   "metadata": {
    "vscode": {
     "languageId": "python"
    }
   },
   "outputs": [],
   "source": [
    "f = x.get_figure()\n",
    "f.savefig(\"wuwu.png\")"
   ]
  },
  {
   "cell_type": "code",
   "execution_count": null,
   "id": "cd0f60d1",
   "metadata": {
    "vscode": {
     "languageId": "python"
    }
   },
   "outputs": [],
   "source": []
  },
  {
   "cell_type": "code",
   "execution_count": null,
   "id": "41b4132a",
   "metadata": {
    "vscode": {
     "languageId": "python"
    }
   },
   "outputs": [],
   "source": []
  }
 ],
 "metadata": {
  "kernelspec": {
   "display_name": "Python 3",
   "language": "python",
   "name": "python3"
  }
 },
 "nbformat": 4,
 "nbformat_minor": 5
}

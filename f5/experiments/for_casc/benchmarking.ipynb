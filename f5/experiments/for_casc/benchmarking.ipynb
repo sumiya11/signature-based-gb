{
 "cells": [
  {
   "cell_type": "markdown",
   "id": "c90d6de2",
   "metadata": {},
   "source": [
    "### Plots for Casc \n",
    "\n",
    "21/08/2022\n"
   ]
  },
  {
   "cell_type": "markdown",
   "id": "983a409d",
   "metadata": {},
   "source": [
    "#### Imports"
   ]
  },
  {
   "cell_type": "code",
   "execution_count": 1,
   "id": "21324f20",
   "metadata": {},
   "outputs": [],
   "source": [
    "import matplotlib.pyplot as plt\n",
    "import numpy as np\n",
    "import pandas as pd"
   ]
  },
  {
   "cell_type": "code",
   "execution_count": 4,
   "id": "686de2f4",
   "metadata": {},
   "outputs": [],
   "source": [
    "import os\n",
    "import sys"
   ]
  },
  {
   "cell_type": "code",
   "execution_count": 5,
   "id": "439f91eb",
   "metadata": {},
   "outputs": [],
   "source": [
    "import pandas as pd\n",
    "sys.path.append('/home/ademin/reduce3/reduce-algebra-code/generic/rbench')"
   ]
  },
  {
   "cell_type": "code",
   "execution_count": 6,
   "id": "aa004c67",
   "metadata": {},
   "outputs": [],
   "source": [
    "import rbench as rb"
   ]
  },
  {
   "cell_type": "markdown",
   "id": "cd67e53b",
   "metadata": {},
   "source": [
    "### Loading data"
   ]
  },
  {
   "cell_type": "code",
   "execution_count": 9,
   "id": "d5f53250",
   "metadata": {},
   "outputs": [],
   "source": [
    "f5 = rb.read_filetree('./f5-full', 'f5').select('boot').deselect(['heapsize', 'valid'])\n",
    "groebner = rb.read_filetree('./groebner-full', 'groebner').select('boot').deselect(['heapsize', 'valid'])"
   ]
  },
  {
   "cell_type": "code",
   "execution_count": 11,
   "id": "4922b835",
   "metadata": {},
   "outputs": [],
   "source": [
    "combo = groebner.join(f5, how='inner')\n",
    "combo005 = combo.slow(0.05)"
   ]
  },
  {
   "cell_type": "markdown",
   "id": "bec35b0b",
   "metadata": {},
   "source": [
    "### Plots"
   ]
  },
  {
   "cell_type": "code",
   "execution_count": 12,
   "id": "5f62fd83",
   "metadata": {},
   "outputs": [
    {
     "data": {
      "image/png": "[encoded data removed]",
      "text/plain": [
       "<Figure size 360x360 with 1 Axes>"
      ]
     },
     "metadata": {
      "needs_background": "light"
     },
     "output_type": "display_data"
    }
   ],
   "source": [
    "x = combo005.plot.scatter(x=('groebner', 'cpu_boot'), y=('f5', 'cpu_boot'), color='g')"
   ]
  },
  {
   "cell_type": "code",
   "execution_count": 13,
   "id": "c12bfe0f",
   "metadata": {},
   "outputs": [],
   "source": [
    "f = x.get_figure()\n",
    "f.savefig(\"wuwu.png\")"
   ]
  },
  {
   "cell_type": "code",
   "execution_count": null,
   "id": "cd0f60d1",
   "metadata": {},
   "outputs": [],
   "source": []
  },
  {
   "cell_type": "code",
   "execution_count": null,
   "id": "41b4132a",
   "metadata": {},
   "outputs": [],
   "source": []
  }
 ],
 "metadata": {
  "kernelspec": {
   "display_name": "Python 3",
   "language": "python",
   "name": "python3"
  },
  "language_info": {
   "codemirror_mode": {
    "name": "ipython",
    "version": 3
   },
   "file_extension": ".py",
   "mimetype": "text/x-python",
   "name": "python",
   "nbconvert_exporter": "python",
   "pygments_lexer": "ipython3",
   "version": "3.9.2"
  }
 },
 "nbformat": 4,
 "nbformat_minor": 5
}

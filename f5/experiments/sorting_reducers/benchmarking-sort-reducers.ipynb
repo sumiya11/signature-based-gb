{
 "cells": [
  {
   "cell_type": "markdown",
   "id": "c90d6de2",
   "metadata": {},
   "source": [
    "### Benchmarking heuristic: sorting reducers by length ascending \n",
    "\n",
    "26/05/2022\n",
    "\n",
    "Test sets: \n",
    " - standard\n",
    " - 3-15 species biomodels"
   ]
  },
  {
   "cell_type": "code",
   "execution_count": 14,
   "id": "21324f20",
   "metadata": {
    "vscode": {
     "languageId": "python"
    }
   },
   "outputs": [],
   "source": [
    "import matplotlib.pyplot as plt"
   ]
  },
  {
   "cell_type": "code",
   "execution_count": 15,
   "id": "439f91eb",
   "metadata": {
    "vscode": {
     "languageId": "python"
    }
   },
   "outputs": [],
   "source": [
    "import pandas as pd"
   ]
  },
  {
   "cell_type": "markdown",
   "id": "a5ce83cc",
   "metadata": {},
   "source": [
    "some magic with sys.path in order to load rbench"
   ]
  },
  {
   "cell_type": "code",
   "execution_count": 16,
   "id": "aggregate-russell",
   "metadata": {
    "vscode": {
     "languageId": "python"
    }
   },
   "outputs": [
    {
     "data": {
      "text/plain": [
       "['/home/ademin/signature-based-gb/f5/rbench-experiments/jupyter',\n",
       " '/usr/lib/python39.zip',\n",
       " '/usr/lib/python3.9',\n",
       " '/usr/lib/python3.9/lib-dynload',\n",
       " '',\n",
       " '/home/ademin/.local/lib/python3.9/site-packages',\n",
       " '/usr/local/lib/python3.9/dist-packages',\n",
       " '/usr/lib/python3/dist-packages',\n",
       " '/usr/lib/python3.9/dist-packages',\n",
       " '/usr/lib/python3/dist-packages/IPython/extensions',\n",
       " '/home/ademin/.ipython',\n",
       " '/home/ademin/reduce-algebra-code/generic/rbench',\n",
       " '/home/ademin/reduce-algebra-code/generic/rbench',\n",
       " '/home/ademin/reduce-algebra-code/generic/rbench']"
      ]
     },
     "execution_count": 16,
     "metadata": {},
     "output_type": "execute_result"
    }
   ],
   "source": [
    "import os\n",
    "import sys\n",
    "sys.path"
   ]
  },
  {
   "cell_type": "code",
   "execution_count": 17,
   "id": "agreed-accident",
   "metadata": {
    "vscode": {
     "languageId": "python"
    }
   },
   "outputs": [],
   "source": [
    "sys.path.append('/home/ademin/reduce-algebra-code/generic/rbench')"
   ]
  },
  {
   "cell_type": "code",
   "execution_count": 18,
   "id": "aa004c67",
   "metadata": {
    "vscode": {
     "languageId": "python"
    }
   },
   "outputs": [],
   "source": [
    "import rbench as rb"
   ]
  },
  {
   "cell_type": "code",
   "execution_count": 19,
   "id": "ae5af3e0",
   "metadata": {
    "vscode": {
     "languageId": "python"
    }
   },
   "outputs": [],
   "source": [
    "f5 = rb.read_filetree('../benchmark-results/groebner/big2022-05-26', 'f5').select('boot').deselect(['heapsize', 'valid'])"
   ]
  },
  {
   "cell_type": "code",
   "execution_count": 20,
   "id": "ecf7fd48",
   "metadata": {
    "vscode": {
     "languageId": "python"
    }
   },
   "outputs": [],
   "source": [
    "sortf5 = rb.read_filetree('../benchmark-results/groebner/bigsort2022-05-26', 'sortf5').select('boot').deselect(['heapsize', 'valid'])"
   ]
  },
  {
   "cell_type": "code",
   "execution_count": 22,
   "id": "6c782ffc",
   "metadata": {
    "vscode": {
     "languageId": "python"
    }
   },
   "outputs": [
    {
     "data": {
      "text/html": [
       "<div>\n",
       "<style scoped>\n",
       "    .dataframe tbody tr th:only-of-type {\n",
       "        vertical-align: middle;\n",
       "    }\n",
       "\n",
       "    .dataframe tbody tr th {\n",
       "        vertical-align: top;\n",
       "    }\n",
       "\n",
       "    .dataframe thead tr th {\n",
       "        text-align: left;\n",
       "    }\n",
       "</style>\n",
       "<table border=\"1\" class=\"dataframe\">\n",
       "  <thead>\n",
       "    <tr>\n",
       "      <th></th>\n",
       "      <th colspan=\"5\" halign=\"left\">f5</th>\n",
       "    </tr>\n",
       "    <tr>\n",
       "      <th></th>\n",
       "      <th>start_boot</th>\n",
       "      <th>cpu_boot</th>\n",
       "      <th>gc_boot</th>\n",
       "      <th>sigxcpu_boot</th>\n",
       "      <th>end_boot</th>\n",
       "    </tr>\n",
       "  </thead>\n",
       "  <tbody>\n",
       "    <tr>\n",
       "      <th>biomodels/BIOMD0000000002</th>\n",
       "      <td>2022-05-26 08:48:53+02:00</td>\n",
       "      <td>0.15</td>\n",
       "      <td>0.01</td>\n",
       "      <td>NaN</td>\n",
       "      <td>2022-05-26 08:48:53+02:00</td>\n",
       "    </tr>\n",
       "    <tr>\n",
       "      <th>biomodels/BIOMD0000000003</th>\n",
       "      <td>2022-05-26 08:49:09+02:00</td>\n",
       "      <td>0.01</td>\n",
       "      <td>0.01</td>\n",
       "      <td>NaN</td>\n",
       "      <td>2022-05-26 08:49:09+02:00</td>\n",
       "    </tr>\n",
       "    <tr>\n",
       "      <th>biomodels/BIOMD0000000006</th>\n",
       "      <td>2022-05-26 08:48:56+02:00</td>\n",
       "      <td>0.02</td>\n",
       "      <td>0.00</td>\n",
       "      <td>NaN</td>\n",
       "      <td>2022-05-26 08:48:57+02:00</td>\n",
       "    </tr>\n",
       "    <tr>\n",
       "      <th>biomodels/BIOMD0000000024</th>\n",
       "      <td>2022-05-26 08:48:54+02:00</td>\n",
       "      <td>0.01</td>\n",
       "      <td>0.00</td>\n",
       "      <td>NaN</td>\n",
       "      <td>2022-05-26 08:48:54+02:00</td>\n",
       "    </tr>\n",
       "    <tr>\n",
       "      <th>biomodels/BIOMD0000000026</th>\n",
       "      <td>2022-05-26 08:50:05+02:00</td>\n",
       "      <td>0.02</td>\n",
       "      <td>0.01</td>\n",
       "      <td>NaN</td>\n",
       "      <td>2022-05-26 08:50:05+02:00</td>\n",
       "    </tr>\n",
       "    <tr>\n",
       "      <th>...</th>\n",
       "      <td>...</td>\n",
       "      <td>...</td>\n",
       "      <td>...</td>\n",
       "      <td>...</td>\n",
       "      <td>...</td>\n",
       "    </tr>\n",
       "    <tr>\n",
       "      <th>standard/root7</th>\n",
       "      <td>2022-05-26 08:59:03+02:00</td>\n",
       "      <td>0.02</td>\n",
       "      <td>0.00</td>\n",
       "      <td>NaN</td>\n",
       "      <td>2022-05-26 08:59:03+02:00</td>\n",
       "    </tr>\n",
       "    <tr>\n",
       "      <th>standard/root8</th>\n",
       "      <td>2022-05-26 08:59:02+02:00</td>\n",
       "      <td>0.04</td>\n",
       "      <td>0.00</td>\n",
       "      <td>NaN</td>\n",
       "      <td>2022-05-26 08:59:02+02:00</td>\n",
       "    </tr>\n",
       "    <tr>\n",
       "      <th>standard/root9</th>\n",
       "      <td>2022-05-26 08:59:13+02:00</td>\n",
       "      <td>0.11</td>\n",
       "      <td>0.01</td>\n",
       "      <td>NaN</td>\n",
       "      <td>2022-05-26 08:59:14+02:00</td>\n",
       "    </tr>\n",
       "    <tr>\n",
       "      <th>standard/sparse5</th>\n",
       "      <td>2022-05-26 08:58:55+02:00</td>\n",
       "      <td>0.00</td>\n",
       "      <td>0.01</td>\n",
       "      <td>NaN</td>\n",
       "      <td>2022-05-26 08:58:55+02:00</td>\n",
       "    </tr>\n",
       "    <tr>\n",
       "      <th>standard/trinks</th>\n",
       "      <td>2022-05-26 08:59:04+02:00</td>\n",
       "      <td>0.05</td>\n",
       "      <td>0.01</td>\n",
       "      <td>NaN</td>\n",
       "      <td>2022-05-26 08:59:04+02:00</td>\n",
       "    </tr>\n",
       "  </tbody>\n",
       "</table>\n",
       "<p>197 rows × 5 columns</p>\n",
       "</div>"
      ],
      "text/plain": [
       "                                                 f5                   \\\n",
       "                                         start_boot cpu_boot gc_boot   \n",
       "biomodels/BIOMD0000000002 2022-05-26 08:48:53+02:00     0.15    0.01   \n",
       "biomodels/BIOMD0000000003 2022-05-26 08:49:09+02:00     0.01    0.01   \n",
       "biomodels/BIOMD0000000006 2022-05-26 08:48:56+02:00     0.02    0.00   \n",
       "biomodels/BIOMD0000000024 2022-05-26 08:48:54+02:00     0.01    0.00   \n",
       "biomodels/BIOMD0000000026 2022-05-26 08:50:05+02:00     0.02    0.01   \n",
       "...                                             ...      ...     ...   \n",
       "standard/root7            2022-05-26 08:59:03+02:00     0.02    0.00   \n",
       "standard/root8            2022-05-26 08:59:02+02:00     0.04    0.00   \n",
       "standard/root9            2022-05-26 08:59:13+02:00     0.11    0.01   \n",
       "standard/sparse5          2022-05-26 08:58:55+02:00     0.00    0.01   \n",
       "standard/trinks           2022-05-26 08:59:04+02:00     0.05    0.01   \n",
       "\n",
       "                                                                  \n",
       "                          sigxcpu_boot                  end_boot  \n",
       "biomodels/BIOMD0000000002          NaN 2022-05-26 08:48:53+02:00  \n",
       "biomodels/BIOMD0000000003          NaN 2022-05-26 08:49:09+02:00  \n",
       "biomodels/BIOMD0000000006          NaN 2022-05-26 08:48:57+02:00  \n",
       "biomodels/BIOMD0000000024          NaN 2022-05-26 08:48:54+02:00  \n",
       "biomodels/BIOMD0000000026          NaN 2022-05-26 08:50:05+02:00  \n",
       "...                                ...                       ...  \n",
       "standard/root7                     NaN 2022-05-26 08:59:03+02:00  \n",
       "standard/root8                     NaN 2022-05-26 08:59:02+02:00  \n",
       "standard/root9                     NaN 2022-05-26 08:59:14+02:00  \n",
       "standard/sparse5                   NaN 2022-05-26 08:58:55+02:00  \n",
       "standard/trinks                    NaN 2022-05-26 08:59:04+02:00  \n",
       "\n",
       "[197 rows x 5 columns]"
      ]
     },
     "execution_count": 22,
     "metadata": {},
     "output_type": "execute_result"
    }
   ],
   "source": [
    "f5"
   ]
  },
  {
   "cell_type": "code",
   "execution_count": 24,
   "id": "3195ac6f",
   "metadata": {
    "vscode": {
     "languageId": "python"
    }
   },
   "outputs": [
    {
     "data": {
      "text/html": [
       "<div>\n",
       "<style scoped>\n",
       "    .dataframe tbody tr th:only-of-type {\n",
       "        vertical-align: middle;\n",
       "    }\n",
       "\n",
       "    .dataframe tbody tr th {\n",
       "        vertical-align: top;\n",
       "    }\n",
       "\n",
       "    .dataframe thead tr th {\n",
       "        text-align: left;\n",
       "    }\n",
       "</style>\n",
       "<table border=\"1\" class=\"dataframe\">\n",
       "  <thead>\n",
       "    <tr>\n",
       "      <th></th>\n",
       "      <th colspan=\"5\" halign=\"left\">sortf5</th>\n",
       "    </tr>\n",
       "    <tr>\n",
       "      <th></th>\n",
       "      <th>start_boot</th>\n",
       "      <th>cpu_boot</th>\n",
       "      <th>gc_boot</th>\n",
       "      <th>sigxcpu_boot</th>\n",
       "      <th>end_boot</th>\n",
       "    </tr>\n",
       "  </thead>\n",
       "  <tbody>\n",
       "    <tr>\n",
       "      <th>biomodels/BIOMD0000000002</th>\n",
       "      <td>2022-05-26 08:24:45+02:00</td>\n",
       "      <td>0.15</td>\n",
       "      <td>0.01</td>\n",
       "      <td>NaN</td>\n",
       "      <td>2022-05-26 08:24:45+02:00</td>\n",
       "    </tr>\n",
       "    <tr>\n",
       "      <th>biomodels/BIOMD0000000003</th>\n",
       "      <td>2022-05-26 08:24:58+02:00</td>\n",
       "      <td>0.01</td>\n",
       "      <td>0.01</td>\n",
       "      <td>NaN</td>\n",
       "      <td>2022-05-26 08:24:58+02:00</td>\n",
       "    </tr>\n",
       "    <tr>\n",
       "      <th>biomodels/BIOMD0000000006</th>\n",
       "      <td>2022-05-26 08:24:48+02:00</td>\n",
       "      <td>0.00</td>\n",
       "      <td>0.00</td>\n",
       "      <td>NaN</td>\n",
       "      <td>2022-05-26 08:24:48+02:00</td>\n",
       "    </tr>\n",
       "    <tr>\n",
       "      <th>biomodels/BIOMD0000000024</th>\n",
       "      <td>2022-05-26 08:24:45+02:00</td>\n",
       "      <td>0.00</td>\n",
       "      <td>0.01</td>\n",
       "      <td>NaN</td>\n",
       "      <td>2022-05-26 08:24:45+02:00</td>\n",
       "    </tr>\n",
       "    <tr>\n",
       "      <th>biomodels/BIOMD0000000026</th>\n",
       "      <td>2022-05-26 08:25:26+02:00</td>\n",
       "      <td>0.03</td>\n",
       "      <td>0.00</td>\n",
       "      <td>NaN</td>\n",
       "      <td>2022-05-26 08:25:26+02:00</td>\n",
       "    </tr>\n",
       "    <tr>\n",
       "      <th>...</th>\n",
       "      <td>...</td>\n",
       "      <td>...</td>\n",
       "      <td>...</td>\n",
       "      <td>...</td>\n",
       "      <td>...</td>\n",
       "    </tr>\n",
       "    <tr>\n",
       "      <th>standard/root7</th>\n",
       "      <td>2022-05-26 08:34:53+02:00</td>\n",
       "      <td>0.01</td>\n",
       "      <td>0.02</td>\n",
       "      <td>NaN</td>\n",
       "      <td>2022-05-26 08:34:54+02:00</td>\n",
       "    </tr>\n",
       "    <tr>\n",
       "      <th>standard/root8</th>\n",
       "      <td>2022-05-26 08:34:52+02:00</td>\n",
       "      <td>0.04</td>\n",
       "      <td>0.01</td>\n",
       "      <td>NaN</td>\n",
       "      <td>2022-05-26 08:34:53+02:00</td>\n",
       "    </tr>\n",
       "    <tr>\n",
       "      <th>standard/root9</th>\n",
       "      <td>2022-05-26 08:35:02+02:00</td>\n",
       "      <td>0.13</td>\n",
       "      <td>0.01</td>\n",
       "      <td>NaN</td>\n",
       "      <td>2022-05-26 08:35:03+02:00</td>\n",
       "    </tr>\n",
       "    <tr>\n",
       "      <th>standard/sparse5</th>\n",
       "      <td>2022-05-26 08:34:46+02:00</td>\n",
       "      <td>0.00</td>\n",
       "      <td>0.01</td>\n",
       "      <td>NaN</td>\n",
       "      <td>2022-05-26 08:34:46+02:00</td>\n",
       "    </tr>\n",
       "    <tr>\n",
       "      <th>standard/trinks</th>\n",
       "      <td>2022-05-26 08:34:54+02:00</td>\n",
       "      <td>0.04</td>\n",
       "      <td>0.01</td>\n",
       "      <td>NaN</td>\n",
       "      <td>2022-05-26 08:34:54+02:00</td>\n",
       "    </tr>\n",
       "  </tbody>\n",
       "</table>\n",
       "<p>197 rows × 5 columns</p>\n",
       "</div>"
      ],
      "text/plain": [
       "                                             sortf5                   \\\n",
       "                                         start_boot cpu_boot gc_boot   \n",
       "biomodels/BIOMD0000000002 2022-05-26 08:24:45+02:00     0.15    0.01   \n",
       "biomodels/BIOMD0000000003 2022-05-26 08:24:58+02:00     0.01    0.01   \n",
       "biomodels/BIOMD0000000006 2022-05-26 08:24:48+02:00     0.00    0.00   \n",
       "biomodels/BIOMD0000000024 2022-05-26 08:24:45+02:00     0.00    0.01   \n",
       "biomodels/BIOMD0000000026 2022-05-26 08:25:26+02:00     0.03    0.00   \n",
       "...                                             ...      ...     ...   \n",
       "standard/root7            2022-05-26 08:34:53+02:00     0.01    0.02   \n",
       "standard/root8            2022-05-26 08:34:52+02:00     0.04    0.01   \n",
       "standard/root9            2022-05-26 08:35:02+02:00     0.13    0.01   \n",
       "standard/sparse5          2022-05-26 08:34:46+02:00     0.00    0.01   \n",
       "standard/trinks           2022-05-26 08:34:54+02:00     0.04    0.01   \n",
       "\n",
       "                                                                  \n",
       "                          sigxcpu_boot                  end_boot  \n",
       "biomodels/BIOMD0000000002          NaN 2022-05-26 08:24:45+02:00  \n",
       "biomodels/BIOMD0000000003          NaN 2022-05-26 08:24:58+02:00  \n",
       "biomodels/BIOMD0000000006          NaN 2022-05-26 08:24:48+02:00  \n",
       "biomodels/BIOMD0000000024          NaN 2022-05-26 08:24:45+02:00  \n",
       "biomodels/BIOMD0000000026          NaN 2022-05-26 08:25:26+02:00  \n",
       "...                                ...                       ...  \n",
       "standard/root7                     NaN 2022-05-26 08:34:54+02:00  \n",
       "standard/root8                     NaN 2022-05-26 08:34:53+02:00  \n",
       "standard/root9                     NaN 2022-05-26 08:35:03+02:00  \n",
       "standard/sparse5                   NaN 2022-05-26 08:34:46+02:00  \n",
       "standard/trinks                    NaN 2022-05-26 08:34:54+02:00  \n",
       "\n",
       "[197 rows x 5 columns]"
      ]
     },
     "execution_count": 24,
     "metadata": {},
     "output_type": "execute_result"
    }
   ],
   "source": [
    "sortf5"
   ]
  },
  {
   "cell_type": "code",
   "execution_count": 25,
   "id": "0325300b",
   "metadata": {
    "vscode": {
     "languageId": "python"
    }
   },
   "outputs": [
    {
     "data": {
      "text/plain": [
       "<AxesSubplot:xlabel='wall clock time', ylabel='jobs'>"
      ]
     },
     "execution_count": 25,
     "metadata": {},
     "output_type": "execute_result"
    },
    {
     "data": {
      "image/png": "[encoded data removed]",
      "text/plain": [
       "<Figure size 360x360 with 1 Axes>"
      ]
     },
     "metadata": {
      "needs_background": "light"
     },
     "output_type": "display_data"
    }
   ],
   "source": [
    "f5.plot.schedule()"
   ]
  },
  {
   "cell_type": "code",
   "execution_count": 26,
   "id": "57efffe3",
   "metadata": {
    "vscode": {
     "languageId": "python"
    }
   },
   "outputs": [
    {
     "data": {
      "text/plain": [
       "<AxesSubplot:xlabel='wall clock time', ylabel='jobs'>"
      ]
     },
     "execution_count": 26,
     "metadata": {},
     "output_type": "execute_result"
    },
    {
     "data": {
      "image/png": "[encoded data removed]",
      "text/plain": [
       "<Figure size 360x360 with 1 Axes>"
      ]
     },
     "metadata": {
      "needs_background": "light"
     },
     "output_type": "display_data"
    }
   ],
   "source": [
    "sortf5.plot.schedule()"
   ]
  },
  {
   "cell_type": "code",
   "execution_count": 33,
   "id": "a3bda22a",
   "metadata": {
    "vscode": {
     "languageId": "python"
    }
   },
   "outputs": [],
   "source": [
    "combo = sortf5.join(f5, how='inner')"
   ]
  },
  {
   "cell_type": "code",
   "execution_count": 34,
   "id": "987d9d42",
   "metadata": {
    "vscode": {
     "languageId": "python"
    }
   },
   "outputs": [
    {
     "data": {
      "text/html": [
       "<div>\n",
       "<style scoped>\n",
       "    .dataframe tbody tr th:only-of-type {\n",
       "        vertical-align: middle;\n",
       "    }\n",
       "\n",
       "    .dataframe tbody tr th {\n",
       "        vertical-align: top;\n",
       "    }\n",
       "\n",
       "    .dataframe thead tr th {\n",
       "        text-align: left;\n",
       "    }\n",
       "</style>\n",
       "<table border=\"1\" class=\"dataframe\">\n",
       "  <thead>\n",
       "    <tr>\n",
       "      <th></th>\n",
       "      <th colspan=\"5\" halign=\"left\">sortf5</th>\n",
       "      <th colspan=\"5\" halign=\"left\">f5</th>\n",
       "    </tr>\n",
       "    <tr>\n",
       "      <th></th>\n",
       "      <th>start_boot</th>\n",
       "      <th>cpu_boot</th>\n",
       "      <th>gc_boot</th>\n",
       "      <th>sigxcpu_boot</th>\n",
       "      <th>end_boot</th>\n",
       "      <th>start_boot</th>\n",
       "      <th>cpu_boot</th>\n",
       "      <th>gc_boot</th>\n",
       "      <th>sigxcpu_boot</th>\n",
       "      <th>end_boot</th>\n",
       "    </tr>\n",
       "  </thead>\n",
       "  <tbody>\n",
       "    <tr>\n",
       "      <th>biomodels/BIOMD0000000002</th>\n",
       "      <td>2022-05-26 08:24:45+02:00</td>\n",
       "      <td>0.15</td>\n",
       "      <td>0.01</td>\n",
       "      <td>NaN</td>\n",
       "      <td>2022-05-26 08:24:45+02:00</td>\n",
       "      <td>2022-05-26 08:48:53+02:00</td>\n",
       "      <td>0.15</td>\n",
       "      <td>0.01</td>\n",
       "      <td>NaN</td>\n",
       "      <td>2022-05-26 08:48:53+02:00</td>\n",
       "    </tr>\n",
       "    <tr>\n",
       "      <th>biomodels/BIOMD0000000003</th>\n",
       "      <td>2022-05-26 08:24:58+02:00</td>\n",
       "      <td>0.01</td>\n",
       "      <td>0.01</td>\n",
       "      <td>NaN</td>\n",
       "      <td>2022-05-26 08:24:58+02:00</td>\n",
       "      <td>2022-05-26 08:49:09+02:00</td>\n",
       "      <td>0.01</td>\n",
       "      <td>0.01</td>\n",
       "      <td>NaN</td>\n",
       "      <td>2022-05-26 08:49:09+02:00</td>\n",
       "    </tr>\n",
       "    <tr>\n",
       "      <th>biomodels/BIOMD0000000006</th>\n",
       "      <td>2022-05-26 08:24:48+02:00</td>\n",
       "      <td>0.00</td>\n",
       "      <td>0.00</td>\n",
       "      <td>NaN</td>\n",
       "      <td>2022-05-26 08:24:48+02:00</td>\n",
       "      <td>2022-05-26 08:48:56+02:00</td>\n",
       "      <td>0.02</td>\n",
       "      <td>0.00</td>\n",
       "      <td>NaN</td>\n",
       "      <td>2022-05-26 08:48:57+02:00</td>\n",
       "    </tr>\n",
       "    <tr>\n",
       "      <th>biomodels/BIOMD0000000024</th>\n",
       "      <td>2022-05-26 08:24:45+02:00</td>\n",
       "      <td>0.00</td>\n",
       "      <td>0.01</td>\n",
       "      <td>NaN</td>\n",
       "      <td>2022-05-26 08:24:45+02:00</td>\n",
       "      <td>2022-05-26 08:48:54+02:00</td>\n",
       "      <td>0.01</td>\n",
       "      <td>0.00</td>\n",
       "      <td>NaN</td>\n",
       "      <td>2022-05-26 08:48:54+02:00</td>\n",
       "    </tr>\n",
       "    <tr>\n",
       "      <th>biomodels/BIOMD0000000026</th>\n",
       "      <td>2022-05-26 08:25:26+02:00</td>\n",
       "      <td>0.03</td>\n",
       "      <td>0.00</td>\n",
       "      <td>NaN</td>\n",
       "      <td>2022-05-26 08:25:26+02:00</td>\n",
       "      <td>2022-05-26 08:50:05+02:00</td>\n",
       "      <td>0.02</td>\n",
       "      <td>0.01</td>\n",
       "      <td>NaN</td>\n",
       "      <td>2022-05-26 08:50:05+02:00</td>\n",
       "    </tr>\n",
       "  </tbody>\n",
       "</table>\n",
       "</div>"
      ],
      "text/plain": [
       "                                             sortf5                   \\\n",
       "                                         start_boot cpu_boot gc_boot   \n",
       "biomodels/BIOMD0000000002 2022-05-26 08:24:45+02:00     0.15    0.01   \n",
       "biomodels/BIOMD0000000003 2022-05-26 08:24:58+02:00     0.01    0.01   \n",
       "biomodels/BIOMD0000000006 2022-05-26 08:24:48+02:00     0.00    0.00   \n",
       "biomodels/BIOMD0000000024 2022-05-26 08:24:45+02:00     0.00    0.01   \n",
       "biomodels/BIOMD0000000026 2022-05-26 08:25:26+02:00     0.03    0.00   \n",
       "\n",
       "                                                                  \\\n",
       "                          sigxcpu_boot                  end_boot   \n",
       "biomodels/BIOMD0000000002          NaN 2022-05-26 08:24:45+02:00   \n",
       "biomodels/BIOMD0000000003          NaN 2022-05-26 08:24:58+02:00   \n",
       "biomodels/BIOMD0000000006          NaN 2022-05-26 08:24:48+02:00   \n",
       "biomodels/BIOMD0000000024          NaN 2022-05-26 08:24:45+02:00   \n",
       "biomodels/BIOMD0000000026          NaN 2022-05-26 08:25:26+02:00   \n",
       "\n",
       "                                                 f5                   \\\n",
       "                                         start_boot cpu_boot gc_boot   \n",
       "biomodels/BIOMD0000000002 2022-05-26 08:48:53+02:00     0.15    0.01   \n",
       "biomodels/BIOMD0000000003 2022-05-26 08:49:09+02:00     0.01    0.01   \n",
       "biomodels/BIOMD0000000006 2022-05-26 08:48:56+02:00     0.02    0.00   \n",
       "biomodels/BIOMD0000000024 2022-05-26 08:48:54+02:00     0.01    0.00   \n",
       "biomodels/BIOMD0000000026 2022-05-26 08:50:05+02:00     0.02    0.01   \n",
       "\n",
       "                                                                  \n",
       "                          sigxcpu_boot                  end_boot  \n",
       "biomodels/BIOMD0000000002          NaN 2022-05-26 08:48:53+02:00  \n",
       "biomodels/BIOMD0000000003          NaN 2022-05-26 08:49:09+02:00  \n",
       "biomodels/BIOMD0000000006          NaN 2022-05-26 08:48:57+02:00  \n",
       "biomodels/BIOMD0000000024          NaN 2022-05-26 08:48:54+02:00  \n",
       "biomodels/BIOMD0000000026          NaN 2022-05-26 08:50:05+02:00  "
      ]
     },
     "execution_count": 34,
     "metadata": {},
     "output_type": "execute_result"
    }
   ],
   "source": [
    "combo.head()"
   ]
  },
  {
   "cell_type": "code",
   "execution_count": 35,
   "id": "a0c0672d",
   "metadata": {
    "vscode": {
     "languageId": "python"
    }
   },
   "outputs": [],
   "source": [
    "# combo.slow(0.05)"
   ]
  },
  {
   "cell_type": "markdown",
   "id": "68bb3400",
   "metadata": {},
   "source": [
    "#### All models that take more than 0.05 s"
   ]
  },
  {
   "cell_type": "code",
   "execution_count": 36,
   "id": "7103f158",
   "metadata": {
    "vscode": {
     "languageId": "python"
    }
   },
   "outputs": [],
   "source": [
    "combo005 = combo.slow(0.05)"
   ]
  },
  {
   "cell_type": "code",
   "execution_count": 37,
   "id": "4fb20877",
   "metadata": {
    "vscode": {
     "languageId": "python"
    }
   },
   "outputs": [
    {
     "data": {
      "text/plain": [
       "<AxesSubplot:xlabel='(sortf5, cpu_boot)', ylabel='(f5, cpu_boot)'>"
      ]
     },
     "execution_count": 37,
     "metadata": {},
     "output_type": "execute_result"
    },
    {
     "data": {
      "image/png": "[encoded data removed]",
      "text/plain": [
       "<Figure size 360x360 with 1 Axes>"
      ]
     },
     "metadata": {
      "needs_background": "light"
     },
     "output_type": "display_data"
    }
   ],
   "source": [
    "combo005.plot.scatter(x=('sortf5', 'cpu_boot'), y=('f5', 'cpu_boot'), color='g')"
   ]
  },
  {
   "cell_type": "code",
   "execution_count": 38,
   "id": "06fde246",
   "metadata": {
    "vscode": {
     "languageId": "python"
    }
   },
   "outputs": [
    {
     "data": {
      "text/html": [
       "<div>\n",
       "<style scoped>\n",
       "    .dataframe tbody tr th:only-of-type {\n",
       "        vertical-align: middle;\n",
       "    }\n",
       "\n",
       "    .dataframe tbody tr th {\n",
       "        vertical-align: top;\n",
       "    }\n",
       "\n",
       "    .dataframe thead tr th {\n",
       "        text-align: left;\n",
       "    }\n",
       "</style>\n",
       "<table border=\"1\" class=\"dataframe\">\n",
       "  <thead>\n",
       "    <tr>\n",
       "      <th></th>\n",
       "      <th colspan=\"3\" halign=\"left\">sortf5</th>\n",
       "      <th colspan=\"3\" halign=\"left\">f5</th>\n",
       "    </tr>\n",
       "    <tr>\n",
       "      <th></th>\n",
       "      <th>cpu_boot</th>\n",
       "      <th>gc_boot</th>\n",
       "      <th>sigxcpu_boot</th>\n",
       "      <th>cpu_boot</th>\n",
       "      <th>gc_boot</th>\n",
       "      <th>sigxcpu_boot</th>\n",
       "    </tr>\n",
       "  </thead>\n",
       "  <tbody>\n",
       "    <tr>\n",
       "      <th>count</th>\n",
       "      <td>29.000000</td>\n",
       "      <td>29.000000</td>\n",
       "      <td>0.0</td>\n",
       "      <td>29.000000</td>\n",
       "      <td>29.000000</td>\n",
       "      <td>0.0</td>\n",
       "    </tr>\n",
       "    <tr>\n",
       "      <th>mean</th>\n",
       "      <td>17.824138</td>\n",
       "      <td>0.010345</td>\n",
       "      <td>NaN</td>\n",
       "      <td>20.301724</td>\n",
       "      <td>0.010690</td>\n",
       "      <td>NaN</td>\n",
       "    </tr>\n",
       "    <tr>\n",
       "      <th>std</th>\n",
       "      <td>43.653984</td>\n",
       "      <td>0.004211</td>\n",
       "      <td>NaN</td>\n",
       "      <td>46.452604</td>\n",
       "      <td>0.007036</td>\n",
       "      <td>NaN</td>\n",
       "    </tr>\n",
       "    <tr>\n",
       "      <th>min</th>\n",
       "      <td>0.040000</td>\n",
       "      <td>0.000000</td>\n",
       "      <td>NaN</td>\n",
       "      <td>0.050000</td>\n",
       "      <td>0.000000</td>\n",
       "      <td>NaN</td>\n",
       "    </tr>\n",
       "    <tr>\n",
       "      <th>25%</th>\n",
       "      <td>0.160000</td>\n",
       "      <td>0.010000</td>\n",
       "      <td>NaN</td>\n",
       "      <td>0.190000</td>\n",
       "      <td>0.010000</td>\n",
       "      <td>NaN</td>\n",
       "    </tr>\n",
       "    <tr>\n",
       "      <th>50%</th>\n",
       "      <td>0.950000</td>\n",
       "      <td>0.010000</td>\n",
       "      <td>NaN</td>\n",
       "      <td>1.180000</td>\n",
       "      <td>0.010000</td>\n",
       "      <td>NaN</td>\n",
       "    </tr>\n",
       "    <tr>\n",
       "      <th>75%</th>\n",
       "      <td>5.700000</td>\n",
       "      <td>0.010000</td>\n",
       "      <td>NaN</td>\n",
       "      <td>7.760000</td>\n",
       "      <td>0.020000</td>\n",
       "      <td>NaN</td>\n",
       "    </tr>\n",
       "    <tr>\n",
       "      <th>max</th>\n",
       "      <td>215.110000</td>\n",
       "      <td>0.020000</td>\n",
       "      <td>NaN</td>\n",
       "      <td>221.110000</td>\n",
       "      <td>0.020000</td>\n",
       "      <td>NaN</td>\n",
       "    </tr>\n",
       "  </tbody>\n",
       "</table>\n",
       "</div>"
      ],
      "text/plain": [
       "           sortf5                                  f5                        \n",
       "         cpu_boot    gc_boot sigxcpu_boot    cpu_boot    gc_boot sigxcpu_boot\n",
       "count   29.000000  29.000000          0.0   29.000000  29.000000          0.0\n",
       "mean    17.824138   0.010345          NaN   20.301724   0.010690          NaN\n",
       "std     43.653984   0.004211          NaN   46.452604   0.007036          NaN\n",
       "min      0.040000   0.000000          NaN    0.050000   0.000000          NaN\n",
       "25%      0.160000   0.010000          NaN    0.190000   0.010000          NaN\n",
       "50%      0.950000   0.010000          NaN    1.180000   0.010000          NaN\n",
       "75%      5.700000   0.010000          NaN    7.760000   0.020000          NaN\n",
       "max    215.110000   0.020000          NaN  221.110000   0.020000          NaN"
      ]
     },
     "execution_count": 38,
     "metadata": {},
     "output_type": "execute_result"
    }
   ],
   "source": [
    "combo005.describe()"
   ]
  },
  {
   "cell_type": "code",
   "execution_count": null,
   "id": "normal-merchant",
   "metadata": {
    "vscode": {
     "languageId": "python"
    }
   },
   "outputs": [],
   "source": []
  }
 ],
 "metadata": {
  "kernelspec": {
   "display_name": "Python 3",
   "language": "python",
   "name": "python3"
  }
 },
 "nbformat": 4,
 "nbformat_minor": 5
}

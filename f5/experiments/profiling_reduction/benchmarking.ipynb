{
 "cells": [
  {
   "cell_type": "markdown",
   "id": "c90d6de2",
   "metadata": {},
   "source": [
    "### Profiling reduction\n",
    "\n",
    "02/08/2022\n",
    "\n",
    "Test sets: \n",
    " - system solving\n",
    " - biomodels\n",
    " - doi"
   ]
  },
  {
   "cell_type": "markdown",
   "id": "983a409d",
   "metadata": {},
   "source": [
    "#### Imports"
   ]
  },
  {
   "cell_type": "code",
   "execution_count": 256,
   "id": "21324f20",
   "metadata": {},
   "outputs": [],
   "source": [
    "import matplotlib.pyplot as plt\n",
    "import numpy as np\n",
    "import pandas as pd"
   ]
  },
  {
   "cell_type": "code",
   "execution_count": 258,
   "id": "686de2f4",
   "metadata": {},
   "outputs": [],
   "source": [
    "import os\n",
    "import sys"
   ]
  },
  {
   "cell_type": "code",
   "execution_count": 259,
   "id": "439f91eb",
   "metadata": {},
   "outputs": [],
   "source": [
    "import pandas as pd\n",
    "sys.path.append('/home/ademin/reduce3/reduce-algebra-code/generic/rbench')"
   ]
  },
  {
   "cell_type": "code",
   "execution_count": 260,
   "id": "aa004c67",
   "metadata": {},
   "outputs": [],
   "source": [
    "import rbench as rb"
   ]
  },
  {
   "cell_type": "markdown",
   "id": "cd67e53b",
   "metadata": {},
   "source": [
    "### Parsing & Cleaning"
   ]
  },
  {
   "cell_type": "code",
   "execution_count": 419,
   "id": "23a94990",
   "metadata": {},
   "outputs": [
    {
     "data": {
      "text/plain": [
       "195"
      ]
     },
     "execution_count": 419,
     "metadata": {},
     "output_type": "execute_result"
    }
   ],
   "source": [
    "profile = pd.read_csv(\"./putin.csv\")\n",
    "profile = profile.set_index(\"system\")\n",
    "profile = profile[~profile.index.duplicated(keep='first')]\n",
    "len(profile)"
   ]
  },
  {
   "cell_type": "code",
   "execution_count": 264,
   "id": "a28eeccf",
   "metadata": {},
   "outputs": [
    {
     "data": {
      "text/html": [
       "<div>\n",
       "<style scoped>\n",
       "    .dataframe tbody tr th:only-of-type {\n",
       "        vertical-align: middle;\n",
       "    }\n",
       "\n",
       "    .dataframe tbody tr th {\n",
       "        vertical-align: top;\n",
       "    }\n",
       "\n",
       "    .dataframe thead th {\n",
       "        text-align: right;\n",
       "    }\n",
       "</style>\n",
       "<table border=\"1\" class=\"dataframe\">\n",
       "  <thead>\n",
       "    <tr style=\"text-align: right;\">\n",
       "      <th></th>\n",
       "      <th>first</th>\n",
       "      <th>second</th>\n",
       "      <th>total</th>\n",
       "    </tr>\n",
       "    <tr>\n",
       "      <th>system</th>\n",
       "      <th></th>\n",
       "      <th></th>\n",
       "      <th></th>\n",
       "    </tr>\n",
       "  </thead>\n",
       "  <tbody>\n",
       "    <tr>\n",
       "      <th>ku10</th>\n",
       "      <td>10</td>\n",
       "      <td>10</td>\n",
       "      <td>50</td>\n",
       "    </tr>\n",
       "    <tr>\n",
       "      <th>caprasse</th>\n",
       "      <td>30</td>\n",
       "      <td>10</td>\n",
       "      <td>70</td>\n",
       "    </tr>\n",
       "    <tr>\n",
       "      <th>noon5</th>\n",
       "      <td>0</td>\n",
       "      <td>0</td>\n",
       "      <td>90</td>\n",
       "    </tr>\n",
       "    <tr>\n",
       "      <th>root9</th>\n",
       "      <td>0</td>\n",
       "      <td>0</td>\n",
       "      <td>110</td>\n",
       "    </tr>\n",
       "    <tr>\n",
       "      <th>eco7</th>\n",
       "      <td>640</td>\n",
       "      <td>70</td>\n",
       "      <td>760</td>\n",
       "    </tr>\n",
       "  </tbody>\n",
       "</table>\n",
       "</div>"
      ],
      "text/plain": [
       "          first  second  total\n",
       "system                        \n",
       "ku10         10      10     50\n",
       "caprasse     30      10     70\n",
       "noon5         0       0     90\n",
       "root9         0       0    110\n",
       "eco7        640      70    760"
      ]
     },
     "execution_count": 264,
     "metadata": {},
     "output_type": "execute_result"
    }
   ],
   "source": [
    "profile.head()"
   ]
  },
  {
   "cell_type": "code",
   "execution_count": 265,
   "id": "d0da12e7",
   "metadata": {},
   "outputs": [
    {
     "data": {
      "text/plain": [
       "array([[<AxesSubplot:title={'center':'first'}>,\n",
       "        <AxesSubplot:title={'center':'second'}>],\n",
       "       [<AxesSubplot:title={'center':'total'}>, <AxesSubplot:>]],\n",
       "      dtype=object)"
      ]
     },
     "execution_count": 265,
     "metadata": {},
     "output_type": "execute_result"
    },
    {
     "data": {
      "image/png": "[encoded data removed]",
      "text/plain": [
       "<Figure size 432x288 with 4 Axes>"
      ]
     },
     "metadata": {
      "needs_background": "light"
     },
     "output_type": "display_data"
    }
   ],
   "source": [
    "profile[profile[\"total\"] > 100.0].hist()"
   ]
  },
  {
   "cell_type": "code",
   "execution_count": 436,
   "id": "10e3a6f4",
   "metadata": {},
   "outputs": [],
   "source": [
    "f5 = rb.read_filetree('./f5-full', 'f5').select('boot').deselect(['heapsize', 'valid'])\n",
    "groebner = rb.read_filetree('./groebner-full', 'groebner').select('boot').deselect(['heapsize', 'valid'])"
   ]
  },
  {
   "cell_type": "code",
   "execution_count": 437,
   "id": "2e1e5741",
   "metadata": {},
   "outputs": [],
   "source": [
    "groebner.index = [s[s.rfind(\"/\")+1:] for s in groebner.index]\n",
    "f5.index = [s[s.rfind(\"/\")+1:] for s in f5.index]"
   ]
  },
  {
   "cell_type": "code",
   "execution_count": 438,
   "id": "af7eeac9",
   "metadata": {},
   "outputs": [],
   "source": [
    "assert len(groebner) == len(f5)"
   ]
  },
  {
   "cell_type": "code",
   "execution_count": 440,
   "id": "a04b3d74",
   "metadata": {},
   "outputs": [
    {
     "data": {
      "text/html": [
       "<div>\n",
       "<style scoped>\n",
       "    .dataframe tbody tr th:only-of-type {\n",
       "        vertical-align: middle;\n",
       "    }\n",
       "\n",
       "    .dataframe tbody tr th {\n",
       "        vertical-align: top;\n",
       "    }\n",
       "\n",
       "    .dataframe thead tr th {\n",
       "        text-align: left;\n",
       "    }\n",
       "</style>\n",
       "<table border=\"1\" class=\"dataframe\">\n",
       "  <thead>\n",
       "    <tr>\n",
       "      <th></th>\n",
       "      <th colspan=\"5\" halign=\"left\">f5</th>\n",
       "      <th colspan=\"5\" halign=\"left\">groebner</th>\n",
       "    </tr>\n",
       "    <tr>\n",
       "      <th></th>\n",
       "      <th>start_boot</th>\n",
       "      <th>cpu_boot</th>\n",
       "      <th>gc_boot</th>\n",
       "      <th>sigxcpu_boot</th>\n",
       "      <th>end_boot</th>\n",
       "      <th>start_boot</th>\n",
       "      <th>cpu_boot</th>\n",
       "      <th>gc_boot</th>\n",
       "      <th>sigxcpu_boot</th>\n",
       "      <th>end_boot</th>\n",
       "    </tr>\n",
       "  </thead>\n",
       "  <tbody>\n",
       "    <tr>\n",
       "      <th>Arnborg</th>\n",
       "      <td>2022-08-02 08:59:22+02:00</td>\n",
       "      <td>0.03</td>\n",
       "      <td>0.01</td>\n",
       "      <td>NaN</td>\n",
       "      <td>2022-08-02 08:59:22+02:00</td>\n",
       "      <td>2022-08-02 09:24:50+02:00</td>\n",
       "      <td>0.05</td>\n",
       "      <td>0.01</td>\n",
       "      <td>NaN</td>\n",
       "      <td>2022-08-02 09:24:50+02:00</td>\n",
       "    </tr>\n",
       "    <tr>\n",
       "      <th>Arnborg</th>\n",
       "      <td>2022-08-02 08:59:22+02:00</td>\n",
       "      <td>0.03</td>\n",
       "      <td>0.01</td>\n",
       "      <td>NaN</td>\n",
       "      <td>2022-08-02 08:59:22+02:00</td>\n",
       "      <td>2022-08-02 09:24:41+02:00</td>\n",
       "      <td>NaN</td>\n",
       "      <td>NaN</td>\n",
       "      <td>600.0</td>\n",
       "      <td>2022-08-02 09:34:16+02:00</td>\n",
       "    </tr>\n",
       "    <tr>\n",
       "      <th>Arnborg</th>\n",
       "      <td>2022-08-02 08:51:26+02:00</td>\n",
       "      <td>NaN</td>\n",
       "      <td>NaN</td>\n",
       "      <td>600.0</td>\n",
       "      <td>2022-08-02 09:01:15+02:00</td>\n",
       "      <td>2022-08-02 09:24:50+02:00</td>\n",
       "      <td>0.05</td>\n",
       "      <td>0.01</td>\n",
       "      <td>NaN</td>\n",
       "      <td>2022-08-02 09:24:50+02:00</td>\n",
       "    </tr>\n",
       "    <tr>\n",
       "      <th>Arnborg</th>\n",
       "      <td>2022-08-02 08:51:26+02:00</td>\n",
       "      <td>NaN</td>\n",
       "      <td>NaN</td>\n",
       "      <td>600.0</td>\n",
       "      <td>2022-08-02 09:01:15+02:00</td>\n",
       "      <td>2022-08-02 09:24:41+02:00</td>\n",
       "      <td>NaN</td>\n",
       "      <td>NaN</td>\n",
       "      <td>600.0</td>\n",
       "      <td>2022-08-02 09:34:16+02:00</td>\n",
       "    </tr>\n",
       "    <tr>\n",
       "      <th>BIOMD0000000002</th>\n",
       "      <td>2022-08-02 08:40:51+02:00</td>\n",
       "      <td>0.17</td>\n",
       "      <td>0.01</td>\n",
       "      <td>NaN</td>\n",
       "      <td>2022-08-02 08:40:52+02:00</td>\n",
       "      <td>2022-08-02 09:12:37+02:00</td>\n",
       "      <td>1.24</td>\n",
       "      <td>0.00</td>\n",
       "      <td>NaN</td>\n",
       "      <td>2022-08-02 09:12:39+02:00</td>\n",
       "    </tr>\n",
       "  </tbody>\n",
       "</table>\n",
       "</div>"
      ],
      "text/plain": [
       "                                       f5                                \\\n",
       "                               start_boot cpu_boot gc_boot sigxcpu_boot   \n",
       "Arnborg         2022-08-02 08:59:22+02:00     0.03    0.01          NaN   \n",
       "Arnborg         2022-08-02 08:59:22+02:00     0.03    0.01          NaN   \n",
       "Arnborg         2022-08-02 08:51:26+02:00      NaN     NaN        600.0   \n",
       "Arnborg         2022-08-02 08:51:26+02:00      NaN     NaN        600.0   \n",
       "BIOMD0000000002 2022-08-02 08:40:51+02:00     0.17    0.01          NaN   \n",
       "\n",
       "                                                           groebner           \\\n",
       "                                 end_boot                start_boot cpu_boot   \n",
       "Arnborg         2022-08-02 08:59:22+02:00 2022-08-02 09:24:50+02:00     0.05   \n",
       "Arnborg         2022-08-02 08:59:22+02:00 2022-08-02 09:24:41+02:00      NaN   \n",
       "Arnborg         2022-08-02 09:01:15+02:00 2022-08-02 09:24:50+02:00     0.05   \n",
       "Arnborg         2022-08-02 09:01:15+02:00 2022-08-02 09:24:41+02:00      NaN   \n",
       "BIOMD0000000002 2022-08-02 08:40:52+02:00 2022-08-02 09:12:37+02:00     1.24   \n",
       "\n",
       "                                                                \n",
       "                gc_boot sigxcpu_boot                  end_boot  \n",
       "Arnborg            0.01          NaN 2022-08-02 09:24:50+02:00  \n",
       "Arnborg             NaN        600.0 2022-08-02 09:34:16+02:00  \n",
       "Arnborg            0.01          NaN 2022-08-02 09:24:50+02:00  \n",
       "Arnborg             NaN        600.0 2022-08-02 09:34:16+02:00  \n",
       "BIOMD0000000002    0.00          NaN 2022-08-02 09:12:39+02:00  "
      ]
     },
     "execution_count": 440,
     "metadata": {},
     "output_type": "execute_result"
    }
   ],
   "source": [
    "combo = f5.join(groebner, how='inner')\n",
    "combo.head()"
   ]
  },
  {
   "cell_type": "code",
   "execution_count": 441,
   "id": "7b65a4bc",
   "metadata": {},
   "outputs": [],
   "source": [
    "f5faster = combo[(\"f5\", \"cpu_boot\")] < combo[(\"groebner\", \"cpu_boot\")]\n",
    "f5faster = f5faster[~f5faster.index.duplicated(keep='first')]\n",
    "f5faster = f5faster.loc[profile.index] "
   ]
  },
  {
   "cell_type": "code",
   "execution_count": 442,
   "id": "d4eb3d80",
   "metadata": {},
   "outputs": [
    {
     "data": {
      "text/plain": [
       "system\n",
       "ku10        False\n",
       "caprasse    False\n",
       "noon5        True\n",
       "root9        True\n",
       "eco7         True\n",
       "dtype: bool"
      ]
     },
     "execution_count": 442,
     "metadata": {},
     "output_type": "execute_result"
    }
   ],
   "source": [
    "c4 = combo[~combo.index.duplicated(keep='first')].loc[f5faster.index]\n",
    "redtimes4 =  3 * profile[\"first\"] / 4\n",
    "f5faster4 = (c1[(\"f5\", \"cpu_boot\")] - redtimes4/1000) < c1[(\"groebner\", \"cpu_boot\")]\n",
    "f5faster4.head()"
   ]
  },
  {
   "cell_type": "code",
   "execution_count": 443,
   "id": "bf0a8a51",
   "metadata": {},
   "outputs": [],
   "source": [
    "assert len(f5faster) == len(profile) "
   ]
  },
  {
   "cell_type": "code",
   "execution_count": 444,
   "id": "b7f5454f",
   "metadata": {},
   "outputs": [],
   "source": [
    "profile[\"f5_is_faster\"] = f5faster"
   ]
  },
  {
   "cell_type": "code",
   "execution_count": 445,
   "id": "8f249752",
   "metadata": {},
   "outputs": [],
   "source": [
    "profile4 = profile.copy()\n",
    "profile4[\"f5_is_faster\"] = f5faster4"
   ]
  },
  {
   "cell_type": "code",
   "execution_count": 446,
   "id": "249b7faf",
   "metadata": {},
   "outputs": [
    {
     "data": {
      "text/html": [
       "<div>\n",
       "<style scoped>\n",
       "    .dataframe tbody tr th:only-of-type {\n",
       "        vertical-align: middle;\n",
       "    }\n",
       "\n",
       "    .dataframe tbody tr th {\n",
       "        vertical-align: top;\n",
       "    }\n",
       "\n",
       "    .dataframe thead th {\n",
       "        text-align: right;\n",
       "    }\n",
       "</style>\n",
       "<table border=\"1\" class=\"dataframe\">\n",
       "  <thead>\n",
       "    <tr style=\"text-align: right;\">\n",
       "      <th></th>\n",
       "      <th>first</th>\n",
       "      <th>second</th>\n",
       "      <th>total</th>\n",
       "      <th>f5_is_faster</th>\n",
       "    </tr>\n",
       "    <tr>\n",
       "      <th>system</th>\n",
       "      <th></th>\n",
       "      <th></th>\n",
       "      <th></th>\n",
       "      <th></th>\n",
       "    </tr>\n",
       "  </thead>\n",
       "  <tbody>\n",
       "    <tr>\n",
       "      <th>ku10</th>\n",
       "      <td>10</td>\n",
       "      <td>10</td>\n",
       "      <td>50</td>\n",
       "      <td>False</td>\n",
       "    </tr>\n",
       "    <tr>\n",
       "      <th>caprasse</th>\n",
       "      <td>30</td>\n",
       "      <td>10</td>\n",
       "      <td>70</td>\n",
       "      <td>False</td>\n",
       "    </tr>\n",
       "    <tr>\n",
       "      <th>noon5</th>\n",
       "      <td>0</td>\n",
       "      <td>0</td>\n",
       "      <td>90</td>\n",
       "      <td>True</td>\n",
       "    </tr>\n",
       "    <tr>\n",
       "      <th>root9</th>\n",
       "      <td>0</td>\n",
       "      <td>0</td>\n",
       "      <td>110</td>\n",
       "      <td>True</td>\n",
       "    </tr>\n",
       "    <tr>\n",
       "      <th>eco7</th>\n",
       "      <td>640</td>\n",
       "      <td>70</td>\n",
       "      <td>760</td>\n",
       "      <td>False</td>\n",
       "    </tr>\n",
       "  </tbody>\n",
       "</table>\n",
       "</div>"
      ],
      "text/plain": [
       "          first  second  total  f5_is_faster\n",
       "system                                      \n",
       "ku10         10      10     50         False\n",
       "caprasse     30      10     70         False\n",
       "noon5         0       0     90          True\n",
       "root9         0       0    110          True\n",
       "eco7        640      70    760         False"
      ]
     },
     "execution_count": 446,
     "metadata": {},
     "output_type": "execute_result"
    }
   ],
   "source": [
    "profile.head()"
   ]
  },
  {
   "cell_type": "code",
   "execution_count": 447,
   "id": "119b3f2d",
   "metadata": {},
   "outputs": [],
   "source": [
    "profile1 = profile.copy()\n",
    "profile2 = profile.copy()\n",
    "midx1 = pd.MultiIndex(levels=[[\"f5_faster\"], [\"first\", \"second\", \"total\", \"f5_is_faster\"]],\n",
    "                    codes=[[0, 0, 0,0], [0, 1, 2,3]])\n",
    "midx2 = pd.MultiIndex(levels=[[\"groebner_faster\"], [\"first\", \"second\", \"total\", \"f5_is_faster\"]],\n",
    "                    codes=[[0, 0, 0,0], [0, 1, 2,3]])\n",
    "profile1.columns = midx1\n",
    "profile2.columns = midx2\n",
    "\n",
    "profile41 = profile4.copy()\n",
    "profile42 = profile4.copy()\n",
    "midx1 = pd.MultiIndex(levels=[[\"f5_faster\"], [\"first\", \"second\", \"total\", \"f5_is_faster\"]],\n",
    "                    codes=[[0, 0, 0,0], [0, 1, 2,3]])\n",
    "midx2 = pd.MultiIndex(levels=[[\"groebner_faster\"], [\"first\", \"second\", \"total\", \"f5_is_faster\"]],\n",
    "                    codes=[[0, 0, 0,0], [0, 1, 2,3]])\n",
    "profile41.columns = midx1\n",
    "profile42.columns = midx2"
   ]
  },
  {
   "cell_type": "code",
   "execution_count": 450,
   "id": "daf638b5",
   "metadata": {},
   "outputs": [
    {
     "data": {
      "text/html": [
       "<div>\n",
       "<style scoped>\n",
       "    .dataframe tbody tr th:only-of-type {\n",
       "        vertical-align: middle;\n",
       "    }\n",
       "\n",
       "    .dataframe tbody tr th {\n",
       "        vertical-align: top;\n",
       "    }\n",
       "\n",
       "    .dataframe thead tr th {\n",
       "        text-align: left;\n",
       "    }\n",
       "\n",
       "    .dataframe thead tr:last-of-type th {\n",
       "        text-align: right;\n",
       "    }\n",
       "</style>\n",
       "<table border=\"1\" class=\"dataframe\">\n",
       "  <thead>\n",
       "    <tr>\n",
       "      <th></th>\n",
       "      <th colspan=\"4\" halign=\"left\">f5_faster</th>\n",
       "      <th colspan=\"4\" halign=\"left\">groebner_faster</th>\n",
       "    </tr>\n",
       "    <tr>\n",
       "      <th></th>\n",
       "      <th>first</th>\n",
       "      <th>second</th>\n",
       "      <th>total</th>\n",
       "      <th>f5_is_faster</th>\n",
       "      <th>first</th>\n",
       "      <th>second</th>\n",
       "      <th>total</th>\n",
       "      <th>f5_is_faster</th>\n",
       "    </tr>\n",
       "    <tr>\n",
       "      <th>system</th>\n",
       "      <th></th>\n",
       "      <th></th>\n",
       "      <th></th>\n",
       "      <th></th>\n",
       "      <th></th>\n",
       "      <th></th>\n",
       "      <th></th>\n",
       "      <th></th>\n",
       "    </tr>\n",
       "  </thead>\n",
       "  <tbody>\n",
       "    <tr>\n",
       "      <th>ku10</th>\n",
       "      <td>NaN</td>\n",
       "      <td>NaN</td>\n",
       "      <td>50</td>\n",
       "      <td>False</td>\n",
       "      <td>10.0</td>\n",
       "      <td>10.0</td>\n",
       "      <td>50</td>\n",
       "      <td>False</td>\n",
       "    </tr>\n",
       "    <tr>\n",
       "      <th>caprasse</th>\n",
       "      <td>NaN</td>\n",
       "      <td>NaN</td>\n",
       "      <td>70</td>\n",
       "      <td>False</td>\n",
       "      <td>30.0</td>\n",
       "      <td>10.0</td>\n",
       "      <td>70</td>\n",
       "      <td>False</td>\n",
       "    </tr>\n",
       "    <tr>\n",
       "      <th>noon5</th>\n",
       "      <td>0.0</td>\n",
       "      <td>0.0</td>\n",
       "      <td>90</td>\n",
       "      <td>True</td>\n",
       "      <td>NaN</td>\n",
       "      <td>NaN</td>\n",
       "      <td>90</td>\n",
       "      <td>True</td>\n",
       "    </tr>\n",
       "    <tr>\n",
       "      <th>root9</th>\n",
       "      <td>0.0</td>\n",
       "      <td>0.0</td>\n",
       "      <td>110</td>\n",
       "      <td>True</td>\n",
       "      <td>NaN</td>\n",
       "      <td>NaN</td>\n",
       "      <td>110</td>\n",
       "      <td>True</td>\n",
       "    </tr>\n",
       "    <tr>\n",
       "      <th>eco7</th>\n",
       "      <td>NaN</td>\n",
       "      <td>NaN</td>\n",
       "      <td>760</td>\n",
       "      <td>False</td>\n",
       "      <td>640.0</td>\n",
       "      <td>70.0</td>\n",
       "      <td>760</td>\n",
       "      <td>False</td>\n",
       "    </tr>\n",
       "  </tbody>\n",
       "</table>\n",
       "</div>"
      ],
      "text/plain": [
       "         f5_faster                           groebner_faster               \\\n",
       "             first second total f5_is_faster           first second total   \n",
       "system                                                                      \n",
       "ku10           NaN    NaN    50        False            10.0   10.0    50   \n",
       "caprasse       NaN    NaN    70        False            30.0   10.0    70   \n",
       "noon5          0.0    0.0    90         True             NaN    NaN    90   \n",
       "root9          0.0    0.0   110         True             NaN    NaN   110   \n",
       "eco7           NaN    NaN   760        False           640.0   70.0   760   \n",
       "\n",
       "                       \n",
       "         f5_is_faster  \n",
       "system                 \n",
       "ku10            False  \n",
       "caprasse        False  \n",
       "noon5            True  \n",
       "root9            True  \n",
       "eco7            False  "
      ]
     },
     "execution_count": 450,
     "metadata": {},
     "output_type": "execute_result"
    }
   ],
   "source": [
    "merged4 = pd.concat([profile41, profile42], axis=1)\n",
    "merged4.head()\n",
    "\n",
    "idx = merged4[merged4[('f5_faster', 'f5_is_faster')] == 0].index\n",
    "rows = merged4.loc[idx]\n",
    "rows[[('f5_faster', 'first'), ('f5_faster', 'second')]] = np.nan\n",
    "merged4.loc[idx] = rows\n",
    "\n",
    "idx = merged4[merged4[('groebner_faster', 'f5_is_faster')] == 1].index\n",
    "rows = merged4.loc[idx]\n",
    "rows[[('groebner_faster', 'first'), ('groebner_faster', 'second')]] = np.nan\n",
    "merged4.loc[idx] = rows\n",
    "\n",
    "merged = pd.concat([profile1, profile2], axis=1)\n",
    "merged.head()\n",
    "\n",
    "idx = merged[merged[('f5_faster', 'f5_is_faster')] == 0].index\n",
    "rows = merged.loc[idx]\n",
    "rows[[('f5_faster', 'first'), ('f5_faster', 'second')]] = np.nan\n",
    "merged.loc[idx] = rows\n",
    "\n",
    "idx = merged[merged[('groebner_faster', 'f5_is_faster')] == 1].index\n",
    "rows = merged.loc[idx]\n",
    "rows[[('groebner_faster', 'first'), ('groebner_faster', 'second')]] = np.nan\n",
    "merged.loc[idx] = rows\n",
    "\n",
    "merged.head()"
   ]
  },
  {
   "cell_type": "code",
   "execution_count": 451,
   "id": "418036e0",
   "metadata": {},
   "outputs": [],
   "source": [
    "rbmerged = rb.analytics.RbDataFrame(merged)"
   ]
  },
  {
   "cell_type": "code",
   "execution_count": 452,
   "id": "321cc140",
   "metadata": {},
   "outputs": [
    {
     "data": {
      "text/html": [
       "<div>\n",
       "<style scoped>\n",
       "    .dataframe tbody tr th:only-of-type {\n",
       "        vertical-align: middle;\n",
       "    }\n",
       "\n",
       "    .dataframe tbody tr th {\n",
       "        vertical-align: top;\n",
       "    }\n",
       "\n",
       "    .dataframe thead th {\n",
       "        text-align: right;\n",
       "    }\n",
       "</style>\n",
       "<table border=\"1\" class=\"dataframe\">\n",
       "  <thead>\n",
       "    <tr style=\"text-align: right;\">\n",
       "      <th></th>\n",
       "      <th>first</th>\n",
       "      <th>second</th>\n",
       "      <th>total</th>\n",
       "      <th>f5_is_faster</th>\n",
       "    </tr>\n",
       "    <tr>\n",
       "      <th>system</th>\n",
       "      <th></th>\n",
       "      <th></th>\n",
       "      <th></th>\n",
       "      <th></th>\n",
       "    </tr>\n",
       "  </thead>\n",
       "  <tbody>\n",
       "    <tr>\n",
       "      <th>ku10</th>\n",
       "      <td>10</td>\n",
       "      <td>10</td>\n",
       "      <td>50</td>\n",
       "      <td>False</td>\n",
       "    </tr>\n",
       "    <tr>\n",
       "      <th>caprasse</th>\n",
       "      <td>30</td>\n",
       "      <td>10</td>\n",
       "      <td>70</td>\n",
       "      <td>False</td>\n",
       "    </tr>\n",
       "    <tr>\n",
       "      <th>noon5</th>\n",
       "      <td>0</td>\n",
       "      <td>0</td>\n",
       "      <td>90</td>\n",
       "      <td>True</td>\n",
       "    </tr>\n",
       "    <tr>\n",
       "      <th>root9</th>\n",
       "      <td>0</td>\n",
       "      <td>0</td>\n",
       "      <td>110</td>\n",
       "      <td>True</td>\n",
       "    </tr>\n",
       "    <tr>\n",
       "      <th>eco7</th>\n",
       "      <td>640</td>\n",
       "      <td>70</td>\n",
       "      <td>760</td>\n",
       "      <td>False</td>\n",
       "    </tr>\n",
       "    <tr>\n",
       "      <th>...</th>\n",
       "      <td>...</td>\n",
       "      <td>...</td>\n",
       "      <td>...</td>\n",
       "      <td>...</td>\n",
       "    </tr>\n",
       "    <tr>\n",
       "      <th>Integ1</th>\n",
       "      <td>20</td>\n",
       "      <td>40</td>\n",
       "      <td>890</td>\n",
       "      <td>False</td>\n",
       "    </tr>\n",
       "    <tr>\n",
       "      <th>CycRoot</th>\n",
       "      <td>100</td>\n",
       "      <td>130</td>\n",
       "      <td>2570</td>\n",
       "      <td>True</td>\n",
       "    </tr>\n",
       "    <tr>\n",
       "      <th>ParCurv</th>\n",
       "      <td>0</td>\n",
       "      <td>0</td>\n",
       "      <td>0</td>\n",
       "      <td>False</td>\n",
       "    </tr>\n",
       "    <tr>\n",
       "      <th>Arnborg</th>\n",
       "      <td>0</td>\n",
       "      <td>20</td>\n",
       "      <td>30</td>\n",
       "      <td>True</td>\n",
       "    </tr>\n",
       "    <tr>\n",
       "      <th>Katsura</th>\n",
       "      <td>10</td>\n",
       "      <td>0</td>\n",
       "      <td>10</td>\n",
       "      <td>True</td>\n",
       "    </tr>\n",
       "  </tbody>\n",
       "</table>\n",
       "<p>195 rows × 4 columns</p>\n",
       "</div>"
      ],
      "text/plain": [
       "          first  second  total  f5_is_faster\n",
       "system                                      \n",
       "ku10         10      10     50         False\n",
       "caprasse     30      10     70         False\n",
       "noon5         0       0     90          True\n",
       "root9         0       0    110          True\n",
       "eco7        640      70    760         False\n",
       "...         ...     ...    ...           ...\n",
       "Integ1       20      40    890         False\n",
       "CycRoot     100     130   2570          True\n",
       "ParCurv       0       0      0         False\n",
       "Arnborg       0      20     30          True\n",
       "Katsura      10       0     10          True\n",
       "\n",
       "[195 rows x 4 columns]"
      ]
     },
     "execution_count": 452,
     "metadata": {},
     "output_type": "execute_result"
    }
   ],
   "source": [
    "profile"
   ]
  },
  {
   "cell_type": "code",
   "execution_count": 500,
   "id": "499902bf",
   "metadata": {},
   "outputs": [],
   "source": [
    "profile_50 = profile[profile[\"total\"] > 50.]\n",
    "profile_100 = profile[profile[\"total\"] > 100.]\n",
    "profile_1000 = profile[profile[\"total\"] > 1000.]"
   ]
  },
  {
   "cell_type": "code",
   "execution_count": 517,
   "id": "161d5733",
   "metadata": {},
   "outputs": [],
   "source": [
    "percentages = pd.DataFrame(data = np.array([profile_100[\"first\"]/profile_100[\"total\"], profile_100[\"second\"]/profile_100[\"total\"]]).T, columns=[\"first reduction\", \"second reduction\"])\n",
    "percentages.index = profile_100.index"
   ]
  },
  {
   "cell_type": "code",
   "execution_count": null,
   "id": "77b6af47",
   "metadata": {},
   "outputs": [],
   "source": []
  },
  {
   "cell_type": "markdown",
   "id": "6be31fcd",
   "metadata": {},
   "source": [
    "### Results"
   ]
  },
  {
   "cell_type": "markdown",
   "id": "f3f873b2",
   "metadata": {},
   "source": [
    "Table of time distributions between the time spent in the first and the second reduction out of total time spent  "
   ]
  },
  {
   "cell_type": "code",
   "execution_count": 519,
   "id": "214a6224",
   "metadata": {},
   "outputs": [
    {
     "data": {
      "text/html": [
       "<div>\n",
       "<style scoped>\n",
       "    .dataframe tbody tr th:only-of-type {\n",
       "        vertical-align: middle;\n",
       "    }\n",
       "\n",
       "    .dataframe tbody tr th {\n",
       "        vertical-align: top;\n",
       "    }\n",
       "\n",
       "    .dataframe thead th {\n",
       "        text-align: right;\n",
       "    }\n",
       "</style>\n",
       "<table border=\"1\" class=\"dataframe\">\n",
       "  <thead>\n",
       "    <tr style=\"text-align: right;\">\n",
       "      <th></th>\n",
       "      <th>first reduction</th>\n",
       "      <th>second reduction</th>\n",
       "    </tr>\n",
       "    <tr>\n",
       "      <th>system</th>\n",
       "      <th></th>\n",
       "      <th></th>\n",
       "    </tr>\n",
       "  </thead>\n",
       "  <tbody>\n",
       "    <tr>\n",
       "      <th>root9</th>\n",
       "      <td>0.000000</td>\n",
       "      <td>0.000000</td>\n",
       "    </tr>\n",
       "    <tr>\n",
       "      <th>eco7</th>\n",
       "      <td>0.842105</td>\n",
       "      <td>0.092105</td>\n",
       "    </tr>\n",
       "    <tr>\n",
       "      <th>root12</th>\n",
       "      <td>0.000000</td>\n",
       "      <td>0.000000</td>\n",
       "    </tr>\n",
       "    <tr>\n",
       "      <th>root11</th>\n",
       "      <td>0.000000</td>\n",
       "      <td>0.000000</td>\n",
       "    </tr>\n",
       "    <tr>\n",
       "      <th>noon6</th>\n",
       "      <td>0.142857</td>\n",
       "      <td>0.271429</td>\n",
       "    </tr>\n",
       "    <tr>\n",
       "      <th>katsura6</th>\n",
       "      <td>0.447552</td>\n",
       "      <td>0.503497</td>\n",
       "    </tr>\n",
       "    <tr>\n",
       "      <th>root10</th>\n",
       "      <td>0.000000</td>\n",
       "      <td>0.000000</td>\n",
       "    </tr>\n",
       "    <tr>\n",
       "      <th>cassou</th>\n",
       "      <td>0.349658</td>\n",
       "      <td>0.547657</td>\n",
       "    </tr>\n",
       "    <tr>\n",
       "      <th>noon7</th>\n",
       "      <td>0.180807</td>\n",
       "      <td>0.321280</td>\n",
       "    </tr>\n",
       "    <tr>\n",
       "      <th>henrion5</th>\n",
       "      <td>0.067508</td>\n",
       "      <td>0.877918</td>\n",
       "    </tr>\n",
       "    <tr>\n",
       "      <th>kinema</th>\n",
       "      <td>0.710217</td>\n",
       "      <td>0.283591</td>\n",
       "    </tr>\n",
       "    <tr>\n",
       "      <th>BIOMD0000000759</th>\n",
       "      <td>0.498970</td>\n",
       "      <td>0.481346</td>\n",
       "    </tr>\n",
       "    <tr>\n",
       "      <th>noon8</th>\n",
       "      <td>0.233819</td>\n",
       "      <td>0.304877</td>\n",
       "    </tr>\n",
       "    <tr>\n",
       "      <th>BIOMD0000000046</th>\n",
       "      <td>0.576923</td>\n",
       "      <td>0.115385</td>\n",
       "    </tr>\n",
       "    <tr>\n",
       "      <th>BIOMD0000000637</th>\n",
       "      <td>0.625000</td>\n",
       "      <td>0.325658</td>\n",
       "    </tr>\n",
       "    <tr>\n",
       "      <th>BIOMD0000000038</th>\n",
       "      <td>0.934831</td>\n",
       "      <td>0.049438</td>\n",
       "    </tr>\n",
       "    <tr>\n",
       "      <th>BIOMD0000000002</th>\n",
       "      <td>0.647059</td>\n",
       "      <td>0.117647</td>\n",
       "    </tr>\n",
       "    <tr>\n",
       "      <th>BIOMD0000000030</th>\n",
       "      <td>0.272727</td>\n",
       "      <td>0.181818</td>\n",
       "    </tr>\n",
       "    <tr>\n",
       "      <th>BIOMD0000000500</th>\n",
       "      <td>0.461538</td>\n",
       "      <td>0.307692</td>\n",
       "    </tr>\n",
       "    <tr>\n",
       "      <th>BIOMD0000000108</th>\n",
       "      <td>0.830435</td>\n",
       "      <td>0.130435</td>\n",
       "    </tr>\n",
       "    <tr>\n",
       "      <th>BIOMD0000000447</th>\n",
       "      <td>0.757185</td>\n",
       "      <td>0.234291</td>\n",
       "    </tr>\n",
       "    <tr>\n",
       "      <th>katsura7</th>\n",
       "      <td>0.264866</td>\n",
       "      <td>0.722615</td>\n",
       "    </tr>\n",
       "    <tr>\n",
       "      <th>henrion6</th>\n",
       "      <td>0.103631</td>\n",
       "      <td>0.877571</td>\n",
       "    </tr>\n",
       "    <tr>\n",
       "      <th>BIOMD0000000123</th>\n",
       "      <td>0.376743</td>\n",
       "      <td>0.590903</td>\n",
       "    </tr>\n",
       "    <tr>\n",
       "      <th>BIOMD0000000769</th>\n",
       "      <td>0.617021</td>\n",
       "      <td>0.255319</td>\n",
       "    </tr>\n",
       "    <tr>\n",
       "      <th>Gerdt1</th>\n",
       "      <td>0.379310</td>\n",
       "      <td>0.103448</td>\n",
       "    </tr>\n",
       "    <tr>\n",
       "      <th>Gerdt3</th>\n",
       "      <td>0.255556</td>\n",
       "      <td>0.122222</td>\n",
       "    </tr>\n",
       "    <tr>\n",
       "      <th>Integ1</th>\n",
       "      <td>0.022472</td>\n",
       "      <td>0.044944</td>\n",
       "    </tr>\n",
       "    <tr>\n",
       "      <th>CycRoot</th>\n",
       "      <td>0.038911</td>\n",
       "      <td>0.050584</td>\n",
       "    </tr>\n",
       "  </tbody>\n",
       "</table>\n",
       "</div>"
      ],
      "text/plain": [
       "                 first reduction  second reduction\n",
       "system                                            \n",
       "root9                   0.000000          0.000000\n",
       "eco7                    0.842105          0.092105\n",
       "root12                  0.000000          0.000000\n",
       "root11                  0.000000          0.000000\n",
       "noon6                   0.142857          0.271429\n",
       "katsura6                0.447552          0.503497\n",
       "root10                  0.000000          0.000000\n",
       "cassou                  0.349658          0.547657\n",
       "noon7                   0.180807          0.321280\n",
       "henrion5                0.067508          0.877918\n",
       "kinema                  0.710217          0.283591\n",
       "BIOMD0000000759         0.498970          0.481346\n",
       "noon8                   0.233819          0.304877\n",
       "BIOMD0000000046         0.576923          0.115385\n",
       "BIOMD0000000637         0.625000          0.325658\n",
       "BIOMD0000000038         0.934831          0.049438\n",
       "BIOMD0000000002         0.647059          0.117647\n",
       "BIOMD0000000030         0.272727          0.181818\n",
       "BIOMD0000000500         0.461538          0.307692\n",
       "BIOMD0000000108         0.830435          0.130435\n",
       "BIOMD0000000447         0.757185          0.234291\n",
       "katsura7                0.264866          0.722615\n",
       "henrion6                0.103631          0.877571\n",
       "BIOMD0000000123         0.376743          0.590903\n",
       "BIOMD0000000769         0.617021          0.255319\n",
       "Gerdt1                  0.379310          0.103448\n",
       "Gerdt3                  0.255556          0.122222\n",
       "Integ1                  0.022472          0.044944\n",
       "CycRoot                 0.038911          0.050584"
      ]
     },
     "execution_count": 519,
     "metadata": {},
     "output_type": "execute_result"
    }
   ],
   "source": [
    "percentages"
   ]
  },
  {
   "cell_type": "markdown",
   "id": "5ff99201",
   "metadata": {},
   "source": [
    "mean, median:"
   ]
  },
  {
   "cell_type": "code",
   "execution_count": 520,
   "id": "d16fc2ef",
   "metadata": {},
   "outputs": [
    {
     "data": {
      "text/html": [
       "<div>\n",
       "<style scoped>\n",
       "    .dataframe tbody tr th:only-of-type {\n",
       "        vertical-align: middle;\n",
       "    }\n",
       "\n",
       "    .dataframe tbody tr th {\n",
       "        vertical-align: top;\n",
       "    }\n",
       "\n",
       "    .dataframe thead th {\n",
       "        text-align: right;\n",
       "    }\n",
       "</style>\n",
       "<table border=\"1\" class=\"dataframe\">\n",
       "  <thead>\n",
       "    <tr style=\"text-align: right;\">\n",
       "      <th></th>\n",
       "      <th>first reduction</th>\n",
       "      <th>second reduction</th>\n",
       "    </tr>\n",
       "  </thead>\n",
       "  <tbody>\n",
       "    <tr>\n",
       "      <th>count</th>\n",
       "      <td>29.000000</td>\n",
       "      <td>29.000000</td>\n",
       "    </tr>\n",
       "    <tr>\n",
       "      <th>mean</th>\n",
       "      <td>0.366817</td>\n",
       "      <td>0.272885</td>\n",
       "    </tr>\n",
       "    <tr>\n",
       "      <th>std</th>\n",
       "      <td>0.291332</td>\n",
       "      <td>0.255459</td>\n",
       "    </tr>\n",
       "    <tr>\n",
       "      <th>min</th>\n",
       "      <td>0.000000</td>\n",
       "      <td>0.000000</td>\n",
       "    </tr>\n",
       "    <tr>\n",
       "      <th>25%</th>\n",
       "      <td>0.103631</td>\n",
       "      <td>0.092105</td>\n",
       "    </tr>\n",
       "    <tr>\n",
       "      <th>50%</th>\n",
       "      <td>0.349658</td>\n",
       "      <td>0.234291</td>\n",
       "    </tr>\n",
       "    <tr>\n",
       "      <th>75%</th>\n",
       "      <td>0.617021</td>\n",
       "      <td>0.325658</td>\n",
       "    </tr>\n",
       "    <tr>\n",
       "      <th>max</th>\n",
       "      <td>0.934831</td>\n",
       "      <td>0.877918</td>\n",
       "    </tr>\n",
       "  </tbody>\n",
       "</table>\n",
       "</div>"
      ],
      "text/plain": [
       "       first reduction  second reduction\n",
       "count        29.000000         29.000000\n",
       "mean          0.366817          0.272885\n",
       "std           0.291332          0.255459\n",
       "min           0.000000          0.000000\n",
       "25%           0.103631          0.092105\n",
       "50%           0.349658          0.234291\n",
       "75%           0.617021          0.325658\n",
       "max           0.934831          0.877918"
      ]
     },
     "execution_count": 520,
     "metadata": {},
     "output_type": "execute_result"
    }
   ],
   "source": [
    "percentages.describe()"
   ]
  },
  {
   "cell_type": "markdown",
   "id": "0368f6e7",
   "metadata": {},
   "source": [
    "#### Time distribution (on average)\n"
   ]
  },
  {
   "cell_type": "markdown",
   "id": "07b19717",
   "metadata": {},
   "source": [
    "over all models"
   ]
  },
  {
   "cell_type": "code",
   "execution_count": 503,
   "id": "5351578f",
   "metadata": {},
   "outputs": [
    {
     "data": {
      "text/plain": [
       "<matplotlib.legend.Legend at 0x7f90d4144430>"
      ]
     },
     "execution_count": 503,
     "metadata": {},
     "output_type": "execute_result"
    },
    {
     "data": {
      "image/png": "[encoded data removed]",
      "text/plain": [
       "<Figure size 432x288 with 1 Axes>"
      ]
     },
     "metadata": {},
     "output_type": "display_data"
    }
   ],
   "source": [
    "c1,c2 = (profile[\"first\"] / profile[\"total\"]).median(), (profile[\"second\"] / profile[\"total\"]).median()\n",
    "c3 = 1 - c1 - c2\n",
    "patches, texts = plt.pie([c1,c2,c3], colors=['yellowgreen', 'gold', 'lightskyblue'], startangle=90)\n",
    "plt.legend(patches, [\"first reduction\", \"second reduction\", \"other things\"], loc=\"best\")"
   ]
  },
  {
   "cell_type": "markdown",
   "id": "8bf42c2f",
   "metadata": {},
   "source": [
    "over all models that took at least 100 ms to run:"
   ]
  },
  {
   "cell_type": "code",
   "execution_count": 504,
   "id": "ee905644",
   "metadata": {},
   "outputs": [
    {
     "data": {
      "text/plain": [
       "<matplotlib.legend.Legend at 0x7f90d40fad30>"
      ]
     },
     "execution_count": 504,
     "metadata": {},
     "output_type": "execute_result"
    },
    {
     "data": {
      "image/png": "[encoded data removed]",
      "text/plain": [
       "<Figure size 432x288 with 1 Axes>"
      ]
     },
     "metadata": {},
     "output_type": "display_data"
    }
   ],
   "source": [
    "c1,c2 = (profile_100[\"first\"] / profile_100[\"total\"]).median(), (profile_100[\"second\"] / profile_100[\"total\"]).median()\n",
    "c3 = 1 - c1 - c2\n",
    "patches, texts = plt.pie([c1,c2,c3], colors=['yellowgreen', 'gold', 'lightskyblue'], startangle=90)\n",
    "plt.legend(patches, [\"first\", \"second\", \"other\"], loc=\"best\")"
   ]
  },
  {
   "cell_type": "markdown",
   "id": "0789e958",
   "metadata": {},
   "source": [
    "over all models that took at least 1000 ms to run"
   ]
  },
  {
   "cell_type": "code",
   "execution_count": 505,
   "id": "df93043b",
   "metadata": {},
   "outputs": [
    {
     "data": {
      "text/plain": [
       "<matplotlib.legend.Legend at 0x7f90d404ed60>"
      ]
     },
     "execution_count": 505,
     "metadata": {},
     "output_type": "execute_result"
    },
    {
     "data": {
      "image/png": "[encoded data removed]",
      "text/plain": [
       "<Figure size 432x288 with 1 Axes>"
      ]
     },
     "metadata": {},
     "output_type": "display_data"
    }
   ],
   "source": [
    "c1,c2 = (profile_1000[\"first\"] / profile_1000[\"total\"]).median(), (profile_1000[\"second\"] / profile_1000[\"total\"]).median()\n",
    "c3 = 1 - c1 - c2\n",
    "patches, texts = plt.pie([c1,c2,c3], colors=['yellowgreen', 'gold', 'lightskyblue'], startangle=90)\n",
    "plt.legend(patches, [\"first\", \"second\", \"other\"], loc=\"best\")"
   ]
  },
  {
   "cell_type": "markdown",
   "id": "1961020c",
   "metadata": {},
   "source": [
    "#### First reduction vs. Second reduction\n",
    "\n",
    "(in milliseconds)\n",
    "\n",
    " - GREEN  - f5 is faster\n",
    " - VIOLET - groebner is faster"
   ]
  },
  {
   "cell_type": "code",
   "execution_count": 464,
   "id": "aad66ccd",
   "metadata": {},
   "outputs": [
    {
     "data": {
      "text/plain": [
       "<AxesSubplot:xlabel='first', ylabel='second'>"
      ]
     },
     "execution_count": 464,
     "metadata": {},
     "output_type": "execute_result"
    },
    {
     "data": {
      "image/png": "[encoded data removed]",
      "text/plain": [
       "<Figure size 360x360 with 1 Axes>"
      ]
     },
     "metadata": {
      "needs_background": "light"
     },
     "output_type": "display_data"
    }
   ],
   "source": [
    "rbmerged.plot.scatter2(x=\"first\", y =\"second\", c1=\"f5_faster\", c2=\"groebner_faster\")"
   ]
  },
  {
   "cell_type": "markdown",
   "id": "8cd74c8f",
   "metadata": {},
   "source": [
    "#### only dots where f5 is faster"
   ]
  },
  {
   "cell_type": "code",
   "execution_count": 454,
   "id": "83b05895",
   "metadata": {},
   "outputs": [
    {
     "data": {
      "text/plain": [
       "<AxesSubplot:xlabel='first', ylabel='second'>"
      ]
     },
     "execution_count": 454,
     "metadata": {},
     "output_type": "execute_result"
    },
    {
     "data": {
      "image/png": "[encoded data removed]",
      "text/plain": [
       "<Figure size 360x360 with 1 Axes>"
      ]
     },
     "metadata": {
      "needs_background": "light"
     },
     "output_type": "display_data"
    }
   ],
   "source": [
    "rbmerged[rbmerged[\"f5_faster\", \"f5_is_faster\"]].plot.scatter2(x=\"first\", y =\"second\", c1=\"f5_faster\", c2=\"groebner_faster\")"
   ]
  },
  {
   "cell_type": "markdown",
   "id": "858566ef",
   "metadata": {},
   "source": [
    "#### only dots where f5 is slower"
   ]
  },
  {
   "cell_type": "code",
   "execution_count": 455,
   "id": "d0e60a63",
   "metadata": {},
   "outputs": [
    {
     "data": {
      "text/plain": [
       "<AxesSubplot:xlabel='first', ylabel='second'>"
      ]
     },
     "execution_count": 455,
     "metadata": {},
     "output_type": "execute_result"
    },
    {
     "data": {
      "image/png": "[encoded data removed]",
      "text/plain": [
       "<Figure size 360x360 with 1 Axes>"
      ]
     },
     "metadata": {
      "needs_background": "light"
     },
     "output_type": "display_data"
    }
   ],
   "source": [
    "rbmerged[rbmerged[\"f5_faster\", \"f5_is_faster\"] == False].plot.scatter2(x=\"first\", y =\"second\", c1=\"f5_faster\", c2=\"groebner_faster\")"
   ]
  },
  {
   "cell_type": "markdown",
   "id": "ceeb61bc",
   "metadata": {},
   "source": [
    "#### What happens if we speed up the first reduction by a factor of 4"
   ]
  },
  {
   "cell_type": "code",
   "execution_count": 465,
   "id": "e797a360",
   "metadata": {},
   "outputs": [
    {
     "name": "stdout",
     "output_type": "stream",
     "text": [
      "We are faster on 77 models.\n",
      "With a 4 times speed up of first reduction we will be faster on 82 models.\n"
     ]
    }
   ],
   "source": [
    "print(f\"We are faster on {sum(f5faster)} models.\\nWith a 4 times speed up of first reduction we will be faster on {sum(f5faster4)} models.\")"
   ]
  },
  {
   "cell_type": "code",
   "execution_count": 466,
   "id": "9e2f3e06",
   "metadata": {},
   "outputs": [
    {
     "data": {
      "text/plain": [
       "<AxesSubplot:xlabel='first', ylabel='second'>"
      ]
     },
     "execution_count": 466,
     "metadata": {},
     "output_type": "execute_result"
    },
    {
     "data": {
      "image/png": "[encoded data removed]",
      "text/plain": [
       "<Figure size 360x360 with 1 Axes>"
      ]
     },
     "metadata": {
      "needs_background": "light"
     },
     "output_type": "display_data"
    }
   ],
   "source": [
    "rb.analytics.RbDataFrame(merged4).plot.scatter2(x=\"first\", y =\"second\", c1=\"f5_faster\", c2=\"groebner_faster\")"
   ]
  },
  {
   "cell_type": "markdown",
   "id": "6adb0e6a",
   "metadata": {},
   "source": [
    "###  Reductions frequency diagrams"
   ]
  },
  {
   "cell_type": "markdown",
   "id": "ecdc0bd0",
   "metadata": {},
   "source": [
    "first reduction / total time histogram for models that took more than 50ms to run"
   ]
  },
  {
   "cell_type": "code",
   "execution_count": 469,
   "id": "86a3fa13",
   "metadata": {},
   "outputs": [
    {
     "data": {
      "text/plain": [
       "<AxesSubplot:ylabel='Frequency'>"
      ]
     },
     "execution_count": 469,
     "metadata": {},
     "output_type": "execute_result"
    },
    {
     "data": {
      "image/png": "[encoded data removed]",
      "text/plain": [
       "<Figure size 432x288 with 1 Axes>"
      ]
     },
     "metadata": {
      "needs_background": "light"
     },
     "output_type": "display_data"
    }
   ],
   "source": [
    "(profile_50[\"first\"] / profile_50[\"total\"]).plot.hist()"
   ]
  },
  {
   "cell_type": "markdown",
   "id": "2e1016ca",
   "metadata": {},
   "source": [
    "#### F5 vs. groebner"
   ]
  },
  {
   "cell_type": "code",
   "execution_count": 373,
   "id": "a4f28fd5",
   "metadata": {},
   "outputs": [
    {
     "data": {
      "text/plain": [
       "<AxesSubplot:xlabel='groebner', ylabel='f5'>"
      ]
     },
     "execution_count": 373,
     "metadata": {},
     "output_type": "execute_result"
    },
    {
     "data": {
      "image/png": "[encoded data removed]",
      "text/plain": [
       "<Figure size 360x360 with 1 Axes>"
      ]
     },
     "metadata": {
      "needs_background": "light"
     },
     "output_type": "display_data"
    }
   ],
   "source": [
    "combo.plot.scatter1(x='groebner', y='f5', c='cpu_boot')"
   ]
  },
  {
   "cell_type": "code",
   "execution_count": 381,
   "id": "96e1fabb",
   "metadata": {},
   "outputs": [
    {
     "data": {
      "text/plain": [
       "([<matplotlib.patches.Wedge at 0x7f90d6587430>,\n",
       "  <matplotlib.patches.Wedge at 0x7f90d6587910>],\n",
       " [Text(0.7778174593052024, 0.7778174593052023, ''),\n",
       "  Text(-0.7778174593052025, -0.7778174593052023, '')])"
      ]
     },
     "execution_count": 381,
     "metadata": {},
     "output_type": "execute_result"
    },
    {
     "data": {
      "image/png": "[encoded data removed]",
      "text/plain": [
       "<Figure size 432x288 with 1 Axes>"
      ]
     },
     "metadata": {},
     "output_type": "display_data"
    }
   ],
   "source": [
    "plt.pie([1, 3])"
   ]
  },
  {
   "cell_type": "code",
   "execution_count": 323,
   "id": "c4f62c14",
   "metadata": {},
   "outputs": [
    {
     "data": {
      "text/html": [
       "<div>\n",
       "<style scoped>\n",
       "    .dataframe tbody tr th:only-of-type {\n",
       "        vertical-align: middle;\n",
       "    }\n",
       "\n",
       "    .dataframe tbody tr th {\n",
       "        vertical-align: top;\n",
       "    }\n",
       "\n",
       "    .dataframe thead tr th {\n",
       "        text-align: left;\n",
       "    }\n",
       "</style>\n",
       "<table border=\"1\" class=\"dataframe\">\n",
       "  <thead>\n",
       "    <tr>\n",
       "      <th></th>\n",
       "      <th>f5</th>\n",
       "      <th>groebner</th>\n",
       "    </tr>\n",
       "    <tr>\n",
       "      <th></th>\n",
       "      <th>cpu_boot</th>\n",
       "      <th>cpu_boot</th>\n",
       "    </tr>\n",
       "  </thead>\n",
       "  <tbody>\n",
       "    <tr>\n",
       "      <th>count</th>\n",
       "      <td>216.000000</td>\n",
       "      <td>222.000000</td>\n",
       "    </tr>\n",
       "    <tr>\n",
       "      <th>mean</th>\n",
       "      <td>5.394259</td>\n",
       "      <td>4.507613</td>\n",
       "    </tr>\n",
       "    <tr>\n",
       "      <th>std</th>\n",
       "      <td>36.868006</td>\n",
       "      <td>23.457453</td>\n",
       "    </tr>\n",
       "    <tr>\n",
       "      <th>min</th>\n",
       "      <td>0.000000</td>\n",
       "      <td>0.000000</td>\n",
       "    </tr>\n",
       "    <tr>\n",
       "      <th>25%</th>\n",
       "      <td>0.007500</td>\n",
       "      <td>0.010000</td>\n",
       "    </tr>\n",
       "    <tr>\n",
       "      <th>50%</th>\n",
       "      <td>0.010000</td>\n",
       "      <td>0.010000</td>\n",
       "    </tr>\n",
       "    <tr>\n",
       "      <th>75%</th>\n",
       "      <td>0.030000</td>\n",
       "      <td>0.030000</td>\n",
       "    </tr>\n",
       "    <tr>\n",
       "      <th>max</th>\n",
       "      <td>432.820000</td>\n",
       "      <td>227.290000</td>\n",
       "    </tr>\n",
       "  </tbody>\n",
       "</table>\n",
       "</div>"
      ],
      "text/plain": [
       "               f5    groebner\n",
       "         cpu_boot    cpu_boot\n",
       "count  216.000000  222.000000\n",
       "mean     5.394259    4.507613\n",
       "std     36.868006   23.457453\n",
       "min      0.000000    0.000000\n",
       "25%      0.007500    0.010000\n",
       "50%      0.010000    0.010000\n",
       "75%      0.030000    0.030000\n",
       "max    432.820000  227.290000"
      ]
     },
     "execution_count": 323,
     "metadata": {},
     "output_type": "execute_result"
    }
   ],
   "source": [
    "combo[[('f5', 'cpu_boot'), ('groebner', 'cpu_boot')]].describe()"
   ]
  },
  {
   "cell_type": "code",
   "execution_count": null,
   "id": "normal-merchant",
   "metadata": {},
   "outputs": [],
   "source": []
  },
  {
   "cell_type": "code",
   "execution_count": null,
   "id": "e0141327",
   "metadata": {},
   "outputs": [],
   "source": []
  },
  {
   "cell_type": "code",
   "execution_count": null,
   "id": "159da598",
   "metadata": {},
   "outputs": [],
   "source": []
  },
  {
   "cell_type": "code",
   "execution_count": null,
   "id": "759acd8f",
   "metadata": {},
   "outputs": [],
   "source": []
  }
 ],
 "metadata": {
  "kernelspec": {
   "display_name": "Python 3",
   "language": "python",
   "name": "python3"
  },
  "language_info": {
   "codemirror_mode": {
    "name": "ipython",
    "version": 3
   },
   "file_extension": ".py",
   "mimetype": "text/x-python",
   "name": "python",
   "nbconvert_exporter": "python",
   "pygments_lexer": "ipython3",
   "version": "3.9.2"
  }
 },
 "nbformat": 4,
 "nbformat_minor": 5
}
